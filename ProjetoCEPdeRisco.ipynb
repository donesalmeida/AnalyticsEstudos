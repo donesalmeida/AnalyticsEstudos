{
  "nbformat": 4,
  "nbformat_minor": 0,
  "metadata": {
    "colab": {
      "provenance": [],
      "authorship_tag": "ABX9TyP3DC/SJMgYhJZGi018tYIN",
      "include_colab_link": true
    },
    "kernelspec": {
      "name": "python3",
      "display_name": "Python 3"
    },
    "language_info": {
      "name": "python"
    }
  },
  "cells": [
    {
      "cell_type": "markdown",
      "metadata": {
        "id": "view-in-github",
        "colab_type": "text"
      },
      "source": [
        "<a href=\"https://colab.research.google.com/github/donesalmeida/AnalyticsEstudos/blob/main/ProjetoCEPdeRisco.ipynb\" target=\"_parent\"><img src=\"https://colab.research.google.com/assets/colab-badge.svg\" alt=\"Open In Colab\"/></a>"
      ]
    },
    {
      "cell_type": "code",
      "execution_count": 210,
      "metadata": {
        "id": "ciPgAOLXzEr1",
        "colab": {
          "base_uri": "https://localhost:8080/"
        },
        "outputId": "8c3dcec0-f192-4ce9-dbb9-8ae4c720fe94"
      },
      "outputs": [
        {
          "output_type": "stream",
          "name": "stdout",
          "text": [
            "Drive already mounted at /content/drive; to attempt to forcibly remount, call drive.mount(\"/content/drive\", force_remount=True).\n"
          ]
        }
      ],
      "source": [
        "import os\n",
        "import pandas as pd\n",
        "import re\n",
        "\n",
        "WORK_DIR = '/content/drive/MyDrive/Colab Notebooks/ProjetoBeneton'\n",
        "\n",
        "WORK_DIR_INPUT = os.path.join(WORK_DIR, 'input')\n",
        "WORK_DIR_OUTPUT = os.path.join(WORK_DIR, 'output')\n",
        "\n",
        "arquivo_planilha = os.path.join(WORK_DIR_INPUT, f'Analise area de risco.xlsx')\n",
        "\n",
        "arquivo_dne =  os.path.join(WORK_DIR_INPUT, f'Cópia de enderecos.csv')\n",
        "\n",
        "valor_unitario_visita = 15\n",
        "\n",
        "from google.colab import drive\n",
        "drive.mount('/content/drive')\n"
      ]
    },
    {
      "cell_type": "code",
      "source": [
        "#Funções Auxiliares\n",
        "def tratar_cep(item):\n",
        "  auxiliar = item[\"cep\"]\n",
        "\n",
        "  num = re.findall(r'\\d+', auxiliar)\n",
        "\n",
        "  retorno = num[0]\n",
        "\n",
        "  if len(num)>1:\n",
        "    retorno = retorno + num[1]\n",
        "\n",
        "  return retorno\n"
      ],
      "metadata": {
        "id": "EHJbz3eR5qXN"
      },
      "execution_count": 211,
      "outputs": []
    },
    {
      "cell_type": "code",
      "source": [
        "df_arquivo_dne = pd.read_csv(arquivo_dne, sep=';')\n",
        "df_arquivo_dne[\"cep\"] = df_arquivo_dne[\"cep\"].astype(str)\n",
        "df_arquivo_dne[\"cep\"] = df_arquivo_dne[\"cep\"].str.strip()\n",
        "df_arquivo_dne['cep_tratado'] = df_arquivo_dne.apply(tratar_cep, axis=1)\n"
      ],
      "metadata": {
        "colab": {
          "base_uri": "https://localhost:8080/"
        },
        "id": "hhG0LgZAJWlm",
        "outputId": "13688754-7a0e-463f-f855-fc9aa5538b56"
      },
      "execution_count": 212,
      "outputs": [
        {
          "output_type": "stream",
          "name": "stderr",
          "text": [
            "<ipython-input-212-508b30dc9268>:1: DtypeWarning: Columns (5,6) have mixed types. Specify dtype option on import or set low_memory=False.\n",
            "  df_arquivo_dne = pd.read_csv(arquivo_dne, sep=';')\n"
          ]
        }
      ]
    },
    {
      "cell_type": "code",
      "source": [
        "\n",
        "# Perguntas a serem respondidas\n",
        "# Quantas vezes os CEPs que sao sinistrados visitaram a tabela de 3000\n",
        "# Considerando a faixa de CEP 5, quantas vezes eles aparece\n",
        "# Quais as areas que deveriam ter CEP de risco\n",
        "# Considerando área de risco, quais os CEPs devemos considrear\n",
        "# Valores de incentivo por regiao\n",
        "\n",
        "# Dos sinistros, quantas vezes eles apareceram CEPS exatos e CEP5\n",
        "\n",
        "# Subir tabela powerbi .... CEPS e repetições\n",
        "\n",
        "# Separar por furto , roubo, MILHA\n"
      ],
      "metadata": {
        "id": "Xu0-XWw_5102"
      },
      "execution_count": 213,
      "outputs": []
    },
    {
      "cell_type": "code",
      "source": [
        "# Sinistros\n",
        "df_raw_sinistros = pd.read_excel(arquivo_planilha, sheet_name = 0)\n",
        "df_raw_sinistros.rename(columns={\"CEP Local do Evento\": \"cep\"}, inplace=True)\n",
        "df_raw_sinistros[\"cep\"] = df_raw_sinistros[\"cep\"].astype(str)\n",
        "df_raw_sinistros[\"cep\"] = df_raw_sinistros[\"cep\"].str.strip()\n",
        "df_raw_sinistros[\"cep_tratado\"] = df_raw_sinistros.apply(tratar_cep, axis=1)\n",
        "\n",
        "df_raw_sinistros[\"cep5\"] = df_raw_sinistros[\"cep_tratado\"].str.slice(0,5)\n",
        "df_raw_sinistros.drop([\"Tipo de Comunicado\", \"Transportadora\", \"CPF do motorista\",\n",
        "                       \"Nome do motorista\",\n",
        "                       \"cep\",\n",
        "                       \"id_incidente\",\n",
        "                       \"Ano\"], axis=1, inplace=True)\n",
        "\n",
        "df_raw_sinistros = pd.merge(df_raw_sinistros, df_arquivo_dne, how='left', on='cep_tratado', indicator=True)\n",
        "df_raw_sinistros.drop([\"ibge_cod_uf\",\n",
        "               \"ibge_cod_cidade\",\n",
        "               \"area_cidade_km2\",\n",
        "               \"ddd\",\n",
        "               \"Região\",\n",
        "               \"cep\",\n",
        "               \"logradouro\",\n",
        "               \"_merge\"], axis=1, inplace=True)\n",
        "\n",
        "# #Base Completa\n",
        "df_raw_base_ceps = pd.read_excel(arquivo_planilha, sheet_name = 2)\n",
        "df_raw_base_ceps.rename(columns={\"*End CEP\": \"cep\"}, inplace=True)\n",
        "df_raw_base_ceps[\"cep\"] = df_raw_base_ceps[\"cep\"].astype(str)\n",
        "df_raw_base_ceps[\"cep\"] = df_raw_base_ceps[\"cep\"].str.strip()\n",
        "df_raw_base_ceps[\"cep_tratado\"] = df_raw_base_ceps.apply(tratar_cep, axis=1)\n",
        "df_raw_base_ceps[\"cep5\"] = df_raw_base_ceps[\"cep_tratado\"].str.slice(0,5)\n",
        "\n",
        "\n",
        "df_raw_base_ceps = pd.merge(df_raw_base_ceps, df_arquivo_dne, how='left', on='cep_tratado', indicator=True)\n",
        "\n",
        "df_raw_base_ceps.rename(columns={\"uf_x\": \"uf\",\n",
        "                         \"cidade_x\": \"cidade\",\n",
        "                         \"bairro_y\": \"bairro\",\n",
        "                         \"latitude_x\": \"latitude\",\n",
        "                         \"longitude_x\": \"longitude\"}, inplace=True)\n",
        "\n",
        "df_raw_base_ceps.drop([\"_merge\",\n",
        "                       \"Região\",\n",
        "                       \"ddd\",\n",
        "                       \"uf\",\n",
        "                       \"bairro_x\",\n",
        "                       \"ibge_cod_cidade\",\n",
        "                       \"area_cidade_km2\",\n",
        "                       \"latitude_y\",\n",
        "                       \"logradouro_y\",\n",
        "                       \"longitude_y\",\n",
        "                       \"ibge_cod_uf\"], axis=1, inplace=True)\n",
        "\n",
        "df_raw_base_ceps_5 = (df_raw_base_ceps\n",
        "                      .groupby(by=[\"cep5\", \"uf_y\", \"cidade\", \"bairro\"])\n",
        "                      .agg(qtde_ceps=(\"cep_tratado\", \"count\"))\n",
        "                      .reset_index()\n",
        "                      )\n",
        "df_raw_base_ceps_5.drop_duplicates(subset=\"cep5\", inplace=True)"
      ],
      "metadata": {
        "id": "aCfXuQ7854_A"
      },
      "execution_count": 214,
      "outputs": []
    },
    {
      "cell_type": "code",
      "source": [
        "def contar_ocorrencias_cep_tratado(item):\n",
        "  return df_raw_sinistros[df_raw_sinistros[\"cep_tratado\"]==item[\"cep_tratado\"]].shape[0]\n",
        "\n",
        "df_raw_base_ceps[\"qtde_ocorrencia\"] = df_raw_base_ceps.apply(contar_ocorrencias_cep_tratado, axis=1)\n",
        "\n",
        "df_raw_base_ceps.sort_values(by=\"qtde_ocorrencia\", ascending=False, inplace=True)\n",
        "\n",
        "df_raw_base_ceps[\"valor_unitario_visita\"] = valor_unitario_visita\n",
        "\n",
        "df_raw_base_ceps[\"total_visita\"] = valor_unitario_visita * df_raw_base_ceps[\"qtde_ocorrencia\"]\n",
        "\n",
        "df_raw_base_ceps.drop([\"cep5\"], axis=1, inplace=True)\n",
        "\n",
        "df_raw_base_ceps[df_raw_base_ceps[\"qtde_ocorrencia\"]>0].to_excel(os.path.join(WORK_DIR_OUTPUT, f'sinistro_um_para_um.xlsx'), index=False)"
      ],
      "metadata": {
        "id": "AP47pV2F6N6W"
      },
      "execution_count": 215,
      "outputs": []
    },
    {
      "cell_type": "code",
      "source": [
        "def contar_ocorrencias_cep_5(item):\n",
        "  return df_raw_sinistros[df_raw_sinistros[\"cep5\"]==item[\"cep5\"]].shape[0]\n",
        "\n",
        "df_raw_base_ceps_5[\"qtde_ocorrencia\"] = df_raw_base_ceps_5.apply(contar_ocorrencias_cep_5, axis=1)\n",
        "\n",
        "df_raw_base_ceps_5.sort_values(by=\"qtde_ocorrencia\", ascending=False, inplace=True)\n",
        "\n",
        "df_raw_base_ceps_5[\"valor_unitario_visita\"] = valor_unitario_visita\n",
        "\n",
        "df_raw_base_ceps_5[\"total_visita\"] = valor_unitario_visita * df_raw_base_ceps_5[\"qtde_ocorrencia\"]\n",
        "\n",
        "df_raw_base_ceps_5[df_raw_base_ceps_5[\"qtde_ocorrencia\"]>0].to_excel(os.path.join(WORK_DIR_OUTPUT, f'sinistro_um_para_cinco.xlsx'), index=False)"
      ],
      "metadata": {
        "id": "ovXGVvT99AVJ"
      },
      "execution_count": 216,
      "outputs": []
    },
    {
      "cell_type": "code",
      "source": [
        "df_raw_base_ceps[df_raw_base_ceps[\"qtde_ocorrencia\"]==0].to_excel(os.path.join(WORK_DIR_OUTPUT, f'sinistro_um_para_um_sem_ocorrencia.xlsx'), index=False)"
      ],
      "metadata": {
        "id": "14lGXY5N9EJl"
      },
      "execution_count": 217,
      "outputs": []
    },
    {
      "cell_type": "code",
      "source": [],
      "metadata": {
        "id": "2RfYCgFKe2Pv"
      },
      "execution_count": 217,
      "outputs": []
    }
  ]
}