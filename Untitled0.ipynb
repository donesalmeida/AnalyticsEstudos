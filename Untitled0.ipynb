{
  "nbformat": 4,
  "nbformat_minor": 0,
  "metadata": {
    "colab": {
      "provenance": [],
      "mount_file_id": "1RP-bQoOkcqGHj6d-31RSgyXHLUjl4B5w",
      "authorship_tag": "ABX9TyPpdR7ryqR78CwWpY6dBlqI",
      "include_colab_link": true
    },
    "kernelspec": {
      "name": "python3",
      "display_name": "Python 3"
    },
    "language_info": {
      "name": "python"
    }
  },
  "cells": [
    {
      "cell_type": "markdown",
      "metadata": {
        "id": "view-in-github",
        "colab_type": "text"
      },
      "source": [
        "<a href=\"https://colab.research.google.com/github/donesalmeida/AnalyticsEstudos/blob/main/Untitled0.ipynb\" target=\"_parent\"><img src=\"https://colab.research.google.com/assets/colab-badge.svg\" alt=\"Open In Colab\"/></a>"
      ]
    },
    {
      "cell_type": "markdown",
      "source": [
        "Chamar Pamdas"
      ],
      "metadata": {
        "id": "8RPnNPQCdk8R"
      }
    },
    {
      "cell_type": "code",
      "source": [
        "from google.colab import drive\n",
        "drive.mount('/content/drive')"
      ],
      "metadata": {
        "id": "3ZCzcdHmDm8h"
      },
      "execution_count": null,
      "outputs": []
    },
    {
      "cell_type": "markdown",
      "source": [
        "# Nova seção"
      ],
      "metadata": {
        "id": "XBOrnT4tAIiE"
      }
    },
    {
      "cell_type": "markdown",
      "source": [
        "'Carregar o arquivo Excel.\n",
        "'Identificar todas as UF únicas na coluna 'UF'.\n",
        "'Para cada UF, filtrar o DataFrame original e salvar uma planilha separada na 'pasta 'Estados' no Google Drive."
      ],
      "metadata": {
        "id": "glXw9uQcGVc_"
      }
    },
    {
      "cell_type": "code",
      "source": [
        "import pandas as pd\n",
        "\n",
        "# Carregar o arquivo Excel\n",
        "file_path = '/content/drive/MyDrive/Dados/TESTE DE CONFIABILIDADE 2024.xlsx'\n",
        "df = pd.read_excel(file_path)\n",
        "\n",
        "# Verificar as UF únicas na coluna 'UF'\n",
        "ufs = df['UF'].unique()\n",
        "\n",
        "# Criar uma planilha para cada UF\n",
        "for uf in ufs:\n",
        "    # Filtrar o DataFrame para a UF atual\n",
        "    df_uf = df[df['UF'] == uf]\n",
        "\n",
        "    # Salvar a planilha para a pasta 'Estados'\n",
        "    output_path = f'/content/drive/MyDrive/Dados/Estados/{uf}.xlsx'\n",
        "    df_uf.to_excel(output_path, index=False)\n",
        "\n",
        "    print(f'Planilha para {uf} criada com sucesso em {output_path}')"
      ],
      "metadata": {
        "colab": {
          "base_uri": "https://localhost:8080/"
        },
        "id": "hmPF3zwUEPJL",
        "outputId": "e07146ba-ab01-4b3e-e744-fd240e98c341"
      },
      "execution_count": 1,
      "outputs": [
        {
          "output_type": "stream",
          "name": "stdout",
          "text": [
            "Planilha para SP criada com sucesso em /content/drive/MyDrive/Dados/Estados/SP.xlsx\n",
            "Planilha para RJ criada com sucesso em /content/drive/MyDrive/Dados/Estados/RJ.xlsx\n",
            "Planilha para PE criada com sucesso em /content/drive/MyDrive/Dados/Estados/PE.xlsx\n",
            "Planilha para AM criada com sucesso em /content/drive/MyDrive/Dados/Estados/AM.xlsx\n",
            "Planilha para MG criada com sucesso em /content/drive/MyDrive/Dados/Estados/MG.xlsx\n",
            "Planilha para GO criada com sucesso em /content/drive/MyDrive/Dados/Estados/GO.xlsx\n",
            "Planilha para DF criada com sucesso em /content/drive/MyDrive/Dados/Estados/DF.xlsx\n",
            "Planilha para PR criada com sucesso em /content/drive/MyDrive/Dados/Estados/PR.xlsx\n",
            "Planilha para RS criada com sucesso em /content/drive/MyDrive/Dados/Estados/RS.xlsx\n",
            "Planilha para SE criada com sucesso em /content/drive/MyDrive/Dados/Estados/SE.xlsx\n",
            "Planilha para SC criada com sucesso em /content/drive/MyDrive/Dados/Estados/SC.xlsx\n",
            "Planilha para PB criada com sucesso em /content/drive/MyDrive/Dados/Estados/PB.xlsx\n",
            "Planilha para BA criada com sucesso em /content/drive/MyDrive/Dados/Estados/BA.xlsx\n",
            "Planilha para MS criada com sucesso em /content/drive/MyDrive/Dados/Estados/MS.xlsx\n",
            "Planilha para ES criada com sucesso em /content/drive/MyDrive/Dados/Estados/ES.xlsx\n",
            "Planilha para TO criada com sucesso em /content/drive/MyDrive/Dados/Estados/TO.xlsx\n",
            "Planilha para RO criada com sucesso em /content/drive/MyDrive/Dados/Estados/RO.xlsx\n",
            "Planilha para AC criada com sucesso em /content/drive/MyDrive/Dados/Estados/AC.xlsx\n",
            "Planilha para PA criada com sucesso em /content/drive/MyDrive/Dados/Estados/PA.xlsx\n",
            "Planilha para MT criada com sucesso em /content/drive/MyDrive/Dados/Estados/MT.xlsx\n",
            "Planilha para CE criada com sucesso em /content/drive/MyDrive/Dados/Estados/CE.xlsx\n",
            "Planilha para AL criada com sucesso em /content/drive/MyDrive/Dados/Estados/AL.xlsx\n",
            "Planilha para RN criada com sucesso em /content/drive/MyDrive/Dados/Estados/RN.xlsx\n",
            "Planilha para MA criada com sucesso em /content/drive/MyDrive/Dados/Estados/MA.xlsx\n",
            "Planilha para PI criada com sucesso em /content/drive/MyDrive/Dados/Estados/PI.xlsx\n"
          ]
        }
      ]
    },
    {
      "cell_type": "markdown",
      "source": [
        "Carregar o arquivo Excel 'SP.xlsx'.\n",
        "Dividir o DataFrame em partes de 1500 linhas (ou menos, se houver menos de 1500 linhas restantes).\n",
        "Para cada parte, salvar um arquivo CSV na pasta '/content/drive/MyDrive/Dados/Estados/' com o nome começando com 'SP' seguido por um número sequencial (01, 02, 03, etc.)."
      ],
      "metadata": {
        "id": "r8e_OLPVIeE-"
      }
    },
    {
      "cell_type": "code",
      "source": [
        "import pandas as pd\n",
        "import os\n",
        "\n",
        "# Caminho do arquivo Excel\n",
        "file_path = '/content/drive/MyDrive/Dados/Estados/SP.xlsx'\n",
        "\n",
        "# Leitura do arquivo Excel\n",
        "df = pd.read_excel(file_path)\n",
        "\n",
        "# Dividir o DataFrame em partes de 1500 linhas\n",
        "chunk_size = 1500\n",
        "total_rows = len(df)\n",
        "\n",
        "# Criar a pasta se não existir\n",
        "output_folder = '/content/drive/MyDrive/Google Earth'\n",
        "os.makedirs(output_folder, exist_ok=True)\n",
        "\n",
        "# Iterar sobre os chunks e salvar como CSV\n",
        "for i, chunk_start in enumerate(range(0, total_rows, chunk_size)):\n",
        "    chunk_end = min(chunk_start + chunk_size, total_rows)\n",
        "    chunk_df = df.iloc[chunk_start:chunk_end]\n",
        "\n",
        "    # Nome do arquivo CSV\n",
        "    file_name = f\"{output_folder}/{df['UF'].iloc[0]}_{i+1:02d}.csv\"\n",
        "\n",
        "    # Salvar o chunk como CSV\n",
        "    chunk_df.to_csv(file_name, index=False)\n",
        "\n",
        "    print(f\"Chunk {i+1} salvo como {file_name}\")"
      ],
      "metadata": {
        "colab": {
          "base_uri": "https://localhost:8080/"
        },
        "id": "lhvAFyJBKVIm",
        "outputId": "37f4fa20-a8d5-4492-fb8a-229b6761645a"
      },
      "execution_count": 3,
      "outputs": [
        {
          "output_type": "stream",
          "name": "stdout",
          "text": [
            "Chunk 1 salvo como /content/drive/MyDrive/Google Earth/SP_01.csv\n",
            "Chunk 2 salvo como /content/drive/MyDrive/Google Earth/SP_02.csv\n",
            "Chunk 3 salvo como /content/drive/MyDrive/Google Earth/SP_03.csv\n",
            "Chunk 4 salvo como /content/drive/MyDrive/Google Earth/SP_04.csv\n",
            "Chunk 5 salvo como /content/drive/MyDrive/Google Earth/SP_05.csv\n",
            "Chunk 6 salvo como /content/drive/MyDrive/Google Earth/SP_06.csv\n",
            "Chunk 7 salvo como /content/drive/MyDrive/Google Earth/SP_07.csv\n",
            "Chunk 8 salvo como /content/drive/MyDrive/Google Earth/SP_08.csv\n",
            "Chunk 9 salvo como /content/drive/MyDrive/Google Earth/SP_09.csv\n",
            "Chunk 10 salvo como /content/drive/MyDrive/Google Earth/SP_10.csv\n",
            "Chunk 11 salvo como /content/drive/MyDrive/Google Earth/SP_11.csv\n",
            "Chunk 12 salvo como /content/drive/MyDrive/Google Earth/SP_12.csv\n",
            "Chunk 13 salvo como /content/drive/MyDrive/Google Earth/SP_13.csv\n",
            "Chunk 14 salvo como /content/drive/MyDrive/Google Earth/SP_14.csv\n",
            "Chunk 15 salvo como /content/drive/MyDrive/Google Earth/SP_15.csv\n",
            "Chunk 16 salvo como /content/drive/MyDrive/Google Earth/SP_16.csv\n",
            "Chunk 17 salvo como /content/drive/MyDrive/Google Earth/SP_17.csv\n",
            "Chunk 18 salvo como /content/drive/MyDrive/Google Earth/SP_18.csv\n",
            "Chunk 19 salvo como /content/drive/MyDrive/Google Earth/SP_19.csv\n",
            "Chunk 20 salvo como /content/drive/MyDrive/Google Earth/SP_20.csv\n",
            "Chunk 21 salvo como /content/drive/MyDrive/Google Earth/SP_21.csv\n",
            "Chunk 22 salvo como /content/drive/MyDrive/Google Earth/SP_22.csv\n",
            "Chunk 23 salvo como /content/drive/MyDrive/Google Earth/SP_23.csv\n",
            "Chunk 24 salvo como /content/drive/MyDrive/Google Earth/SP_24.csv\n",
            "Chunk 25 salvo como /content/drive/MyDrive/Google Earth/SP_25.csv\n",
            "Chunk 26 salvo como /content/drive/MyDrive/Google Earth/SP_26.csv\n",
            "Chunk 27 salvo como /content/drive/MyDrive/Google Earth/SP_27.csv\n",
            "Chunk 28 salvo como /content/drive/MyDrive/Google Earth/SP_28.csv\n",
            "Chunk 29 salvo como /content/drive/MyDrive/Google Earth/SP_29.csv\n",
            "Chunk 30 salvo como /content/drive/MyDrive/Google Earth/SP_30.csv\n",
            "Chunk 31 salvo como /content/drive/MyDrive/Google Earth/SP_31.csv\n",
            "Chunk 32 salvo como /content/drive/MyDrive/Google Earth/SP_32.csv\n",
            "Chunk 33 salvo como /content/drive/MyDrive/Google Earth/SP_33.csv\n",
            "Chunk 34 salvo como /content/drive/MyDrive/Google Earth/SP_34.csv\n",
            "Chunk 35 salvo como /content/drive/MyDrive/Google Earth/SP_35.csv\n",
            "Chunk 36 salvo como /content/drive/MyDrive/Google Earth/SP_36.csv\n",
            "Chunk 37 salvo como /content/drive/MyDrive/Google Earth/SP_37.csv\n",
            "Chunk 38 salvo como /content/drive/MyDrive/Google Earth/SP_38.csv\n",
            "Chunk 39 salvo como /content/drive/MyDrive/Google Earth/SP_39.csv\n",
            "Chunk 40 salvo como /content/drive/MyDrive/Google Earth/SP_40.csv\n",
            "Chunk 41 salvo como /content/drive/MyDrive/Google Earth/SP_41.csv\n",
            "Chunk 42 salvo como /content/drive/MyDrive/Google Earth/SP_42.csv\n",
            "Chunk 43 salvo como /content/drive/MyDrive/Google Earth/SP_43.csv\n",
            "Chunk 44 salvo como /content/drive/MyDrive/Google Earth/SP_44.csv\n",
            "Chunk 45 salvo como /content/drive/MyDrive/Google Earth/SP_45.csv\n",
            "Chunk 46 salvo como /content/drive/MyDrive/Google Earth/SP_46.csv\n",
            "Chunk 47 salvo como /content/drive/MyDrive/Google Earth/SP_47.csv\n",
            "Chunk 48 salvo como /content/drive/MyDrive/Google Earth/SP_48.csv\n",
            "Chunk 49 salvo como /content/drive/MyDrive/Google Earth/SP_49.csv\n",
            "Chunk 50 salvo como /content/drive/MyDrive/Google Earth/SP_50.csv\n",
            "Chunk 51 salvo como /content/drive/MyDrive/Google Earth/SP_51.csv\n",
            "Chunk 52 salvo como /content/drive/MyDrive/Google Earth/SP_52.csv\n",
            "Chunk 53 salvo como /content/drive/MyDrive/Google Earth/SP_53.csv\n",
            "Chunk 54 salvo como /content/drive/MyDrive/Google Earth/SP_54.csv\n",
            "Chunk 55 salvo como /content/drive/MyDrive/Google Earth/SP_55.csv\n",
            "Chunk 56 salvo como /content/drive/MyDrive/Google Earth/SP_56.csv\n",
            "Chunk 57 salvo como /content/drive/MyDrive/Google Earth/SP_57.csv\n",
            "Chunk 58 salvo como /content/drive/MyDrive/Google Earth/SP_58.csv\n",
            "Chunk 59 salvo como /content/drive/MyDrive/Google Earth/SP_59.csv\n",
            "Chunk 60 salvo como /content/drive/MyDrive/Google Earth/SP_60.csv\n",
            "Chunk 61 salvo como /content/drive/MyDrive/Google Earth/SP_61.csv\n",
            "Chunk 62 salvo como /content/drive/MyDrive/Google Earth/SP_62.csv\n",
            "Chunk 63 salvo como /content/drive/MyDrive/Google Earth/SP_63.csv\n",
            "Chunk 64 salvo como /content/drive/MyDrive/Google Earth/SP_64.csv\n",
            "Chunk 65 salvo como /content/drive/MyDrive/Google Earth/SP_65.csv\n",
            "Chunk 66 salvo como /content/drive/MyDrive/Google Earth/SP_66.csv\n",
            "Chunk 67 salvo como /content/drive/MyDrive/Google Earth/SP_67.csv\n",
            "Chunk 68 salvo como /content/drive/MyDrive/Google Earth/SP_68.csv\n",
            "Chunk 69 salvo como /content/drive/MyDrive/Google Earth/SP_69.csv\n",
            "Chunk 70 salvo como /content/drive/MyDrive/Google Earth/SP_70.csv\n",
            "Chunk 71 salvo como /content/drive/MyDrive/Google Earth/SP_71.csv\n",
            "Chunk 72 salvo como /content/drive/MyDrive/Google Earth/SP_72.csv\n",
            "Chunk 73 salvo como /content/drive/MyDrive/Google Earth/SP_73.csv\n",
            "Chunk 74 salvo como /content/drive/MyDrive/Google Earth/SP_74.csv\n",
            "Chunk 75 salvo como /content/drive/MyDrive/Google Earth/SP_75.csv\n",
            "Chunk 76 salvo como /content/drive/MyDrive/Google Earth/SP_76.csv\n",
            "Chunk 77 salvo como /content/drive/MyDrive/Google Earth/SP_77.csv\n",
            "Chunk 78 salvo como /content/drive/MyDrive/Google Earth/SP_78.csv\n",
            "Chunk 79 salvo como /content/drive/MyDrive/Google Earth/SP_79.csv\n",
            "Chunk 80 salvo como /content/drive/MyDrive/Google Earth/SP_80.csv\n",
            "Chunk 81 salvo como /content/drive/MyDrive/Google Earth/SP_81.csv\n",
            "Chunk 82 salvo como /content/drive/MyDrive/Google Earth/SP_82.csv\n",
            "Chunk 83 salvo como /content/drive/MyDrive/Google Earth/SP_83.csv\n",
            "Chunk 84 salvo como /content/drive/MyDrive/Google Earth/SP_84.csv\n",
            "Chunk 85 salvo como /content/drive/MyDrive/Google Earth/SP_85.csv\n",
            "Chunk 86 salvo como /content/drive/MyDrive/Google Earth/SP_86.csv\n",
            "Chunk 87 salvo como /content/drive/MyDrive/Google Earth/SP_87.csv\n",
            "Chunk 88 salvo como /content/drive/MyDrive/Google Earth/SP_88.csv\n",
            "Chunk 89 salvo como /content/drive/MyDrive/Google Earth/SP_89.csv\n",
            "Chunk 90 salvo como /content/drive/MyDrive/Google Earth/SP_90.csv\n",
            "Chunk 91 salvo como /content/drive/MyDrive/Google Earth/SP_91.csv\n",
            "Chunk 92 salvo como /content/drive/MyDrive/Google Earth/SP_92.csv\n",
            "Chunk 93 salvo como /content/drive/MyDrive/Google Earth/SP_93.csv\n",
            "Chunk 94 salvo como /content/drive/MyDrive/Google Earth/SP_94.csv\n",
            "Chunk 95 salvo como /content/drive/MyDrive/Google Earth/SP_95.csv\n",
            "Chunk 96 salvo como /content/drive/MyDrive/Google Earth/SP_96.csv\n",
            "Chunk 97 salvo como /content/drive/MyDrive/Google Earth/SP_97.csv\n",
            "Chunk 98 salvo como /content/drive/MyDrive/Google Earth/SP_98.csv\n",
            "Chunk 99 salvo como /content/drive/MyDrive/Google Earth/SP_99.csv\n",
            "Chunk 100 salvo como /content/drive/MyDrive/Google Earth/SP_100.csv\n",
            "Chunk 101 salvo como /content/drive/MyDrive/Google Earth/SP_101.csv\n",
            "Chunk 102 salvo como /content/drive/MyDrive/Google Earth/SP_102.csv\n",
            "Chunk 103 salvo como /content/drive/MyDrive/Google Earth/SP_103.csv\n",
            "Chunk 104 salvo como /content/drive/MyDrive/Google Earth/SP_104.csv\n",
            "Chunk 105 salvo como /content/drive/MyDrive/Google Earth/SP_105.csv\n",
            "Chunk 106 salvo como /content/drive/MyDrive/Google Earth/SP_106.csv\n",
            "Chunk 107 salvo como /content/drive/MyDrive/Google Earth/SP_107.csv\n",
            "Chunk 108 salvo como /content/drive/MyDrive/Google Earth/SP_108.csv\n",
            "Chunk 109 salvo como /content/drive/MyDrive/Google Earth/SP_109.csv\n",
            "Chunk 110 salvo como /content/drive/MyDrive/Google Earth/SP_110.csv\n",
            "Chunk 111 salvo como /content/drive/MyDrive/Google Earth/SP_111.csv\n",
            "Chunk 112 salvo como /content/drive/MyDrive/Google Earth/SP_112.csv\n",
            "Chunk 113 salvo como /content/drive/MyDrive/Google Earth/SP_113.csv\n",
            "Chunk 114 salvo como /content/drive/MyDrive/Google Earth/SP_114.csv\n",
            "Chunk 115 salvo como /content/drive/MyDrive/Google Earth/SP_115.csv\n",
            "Chunk 116 salvo como /content/drive/MyDrive/Google Earth/SP_116.csv\n",
            "Chunk 117 salvo como /content/drive/MyDrive/Google Earth/SP_117.csv\n",
            "Chunk 118 salvo como /content/drive/MyDrive/Google Earth/SP_118.csv\n",
            "Chunk 119 salvo como /content/drive/MyDrive/Google Earth/SP_119.csv\n",
            "Chunk 120 salvo como /content/drive/MyDrive/Google Earth/SP_120.csv\n",
            "Chunk 121 salvo como /content/drive/MyDrive/Google Earth/SP_121.csv\n",
            "Chunk 122 salvo como /content/drive/MyDrive/Google Earth/SP_122.csv\n",
            "Chunk 123 salvo como /content/drive/MyDrive/Google Earth/SP_123.csv\n",
            "Chunk 124 salvo como /content/drive/MyDrive/Google Earth/SP_124.csv\n",
            "Chunk 125 salvo como /content/drive/MyDrive/Google Earth/SP_125.csv\n",
            "Chunk 126 salvo como /content/drive/MyDrive/Google Earth/SP_126.csv\n",
            "Chunk 127 salvo como /content/drive/MyDrive/Google Earth/SP_127.csv\n",
            "Chunk 128 salvo como /content/drive/MyDrive/Google Earth/SP_128.csv\n",
            "Chunk 129 salvo como /content/drive/MyDrive/Google Earth/SP_129.csv\n",
            "Chunk 130 salvo como /content/drive/MyDrive/Google Earth/SP_130.csv\n",
            "Chunk 131 salvo como /content/drive/MyDrive/Google Earth/SP_131.csv\n",
            "Chunk 132 salvo como /content/drive/MyDrive/Google Earth/SP_132.csv\n",
            "Chunk 133 salvo como /content/drive/MyDrive/Google Earth/SP_133.csv\n",
            "Chunk 134 salvo como /content/drive/MyDrive/Google Earth/SP_134.csv\n",
            "Chunk 135 salvo como /content/drive/MyDrive/Google Earth/SP_135.csv\n",
            "Chunk 136 salvo como /content/drive/MyDrive/Google Earth/SP_136.csv\n",
            "Chunk 137 salvo como /content/drive/MyDrive/Google Earth/SP_137.csv\n",
            "Chunk 138 salvo como /content/drive/MyDrive/Google Earth/SP_138.csv\n",
            "Chunk 139 salvo como /content/drive/MyDrive/Google Earth/SP_139.csv\n",
            "Chunk 140 salvo como /content/drive/MyDrive/Google Earth/SP_140.csv\n",
            "Chunk 141 salvo como /content/drive/MyDrive/Google Earth/SP_141.csv\n",
            "Chunk 142 salvo como /content/drive/MyDrive/Google Earth/SP_142.csv\n",
            "Chunk 143 salvo como /content/drive/MyDrive/Google Earth/SP_143.csv\n",
            "Chunk 144 salvo como /content/drive/MyDrive/Google Earth/SP_144.csv\n"
          ]
        }
      ]
    }
  ]
}