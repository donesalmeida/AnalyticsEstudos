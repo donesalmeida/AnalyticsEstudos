{
  "nbformat": 4,
  "nbformat_minor": 0,
  "metadata": {
    "colab": {
      "provenance": [],
      "mount_file_id": "1RP-bQoOkcqGHj6d-31RSgyXHLUjl4B5w",
      "authorship_tag": "ABX9TyNmTdVg6a1aPcZu0lKvgHaR",
      "include_colab_link": true
    },
    "kernelspec": {
      "name": "python3",
      "display_name": "Python 3"
    },
    "language_info": {
      "name": "python"
    }
  },
  "cells": [
    {
      "cell_type": "markdown",
      "metadata": {
        "id": "view-in-github",
        "colab_type": "text"
      },
      "source": [
        "<a href=\"https://colab.research.google.com/github/donesalmeida/AnalyticsEstudos/blob/main/Untitled0.ipynb\" target=\"_parent\"><img src=\"https://colab.research.google.com/assets/colab-badge.svg\" alt=\"Open In Colab\"/></a>"
      ]
    },
    {
      "cell_type": "markdown",
      "source": [
        "Este script carrega o arquivo \"CEP Risco_.xlsx\", separa-o por UF e, para cada UF, salva um arquivo separado na pasta \"drive/MyDrive/\". Cada arquivo é nomeado com o nome da UF seguido pelo número de CEPs contidos naquela UF."
      ],
      "metadata": {
        "id": "-fJq-XmO_tcF"
      }
    },
    {
      "cell_type": "code",
      "source": [
        "import pandas as pd\n",
        "import os\n",
        "\n",
        "# Montar o Google Drive\n",
        "from google.colab import drive\n",
        "drive.mount('/content/drive')\n",
        "\n",
        "# Carregar o arquivo Excel\n",
        "file_path = '/content/drive/MyDrive/Dados/CEP Risco_.xlsx'\n",
        "df = pd.read_excel(file_path)\n",
        "\n",
        "# Criar diretório para armazenar as planilhas dos Estados\n",
        "output_dir = '/content/drive/MyDrive/Dados/Estados/'\n",
        "os.makedirs(output_dir, exist_ok=True)\n",
        "\n",
        "# Separar por UF\n",
        "ufs = df['UF'].unique()\n",
        "\n",
        "# Para cada UF, salvar o subconjunto correspondente em um arquivo separado\n",
        "for uf in ufs:\n",
        "    df_uf = df[df['UF'] == uf]  # Filtrar por UF\n",
        "    num_ceps = len(df_uf)  # Contar o número de CEPs para essa UF\n",
        "    file_name = f'{uf}_{num_ceps}_CEPs.xlsx'  # Nome do arquivo\n",
        "    file_path = os.path.join(output_dir, file_name)  # Caminho completo do arquivo\n",
        "    df_uf.to_excel(file_path, index=False)  # Salvar como Excel\n",
        "\n",
        "print(\"Arquivos separados por UF e salvos com sucesso!\")"
      ],
      "metadata": {
        "colab": {
          "base_uri": "https://localhost:8080/"
        },
        "id": "Xhs8kMKOAB-_",
        "outputId": "3f14c95a-a140-4a57-e014-690c1cb3d53f"
      },
      "execution_count": 11,
      "outputs": [
        {
          "output_type": "stream",
          "name": "stdout",
          "text": [
            "Drive already mounted at /content/drive; to attempt to forcibly remount, call drive.mount(\"/content/drive\", force_remount=True).\n",
            "Arquivos separados por UF e salvos com sucesso!\n"
          ]
        }
      ]
    },
    {
      "cell_type": "markdown",
      "source": [
        "Este script primeiro monta o Google Drive, em seguida, carrega o arquivo Excel \"SP_38345_CEPs.xlsx\" e cria um diretório para armazenar os arquivos CSV na pasta \"/content/drive/MyDrive/Dados/Uploand_Google_Earth\". Em seguida, ordena os bairros pela quantidade de CEPs em ordem decrescente e, para cada bairro, tenta salvar um arquivo CSV com o nome do bairro seguido pela quantidade de CEPs. Se houver algum erro ao processar um bairro, o script irá ignorá-lo e prosseguir para o próximo.\n",
        "\n",
        "1.\tPreciso de um Script para Google Colab aonde ele vai na /content/drive/MyDrive/Dados/Estados/SP_38345_CEPs.xlsx e separa por Bairro.\n",
        "2.\tA compilação deve considerar Bairro com maior quantidade de CEP.\n",
        "3.\tO nome dos arquivos é quantidade de cep por exemplo (235_CEPs_nome do bairro).\n",
        "4.\tSerá salvo /content/drive/MyDrive/Dados/Uploand_Google_Earth no formato CSV.\n",
        "5.\tSe possuir erro ignore e vá para o próximo.\n"
      ],
      "metadata": {
        "id": "yw1p1B5dCIcb"
      }
    },
    {
      "cell_type": "code",
      "source": [
        "import pandas as pd\n",
        "import os\n",
        "\n",
        "# Montar o Google Drive\n",
        "from google.colab import drive\n",
        "drive.mount('/content/drive')\n",
        "\n",
        "# Caminho do arquivo Excel\n",
        "file_path = '/content/drive/MyDrive/Dados/Estados/SP_38345_CEPs.xlsx'\n",
        "\n",
        "# Carregar o arquivo Excel\n",
        "try:\n",
        "    df = pd.read_excel(file_path)\n",
        "except Exception as e:\n",
        "    print(f\"Erro ao carregar o arquivo Excel: {str(e)}\")\n",
        "    exit()\n",
        "\n",
        "# Criar diretório para armazenar os arquivos CSV\n",
        "output_dir = '/content/drive/MyDrive/Dados/Uploand_Google_Earth/'\n",
        "os.makedirs(output_dir, exist_ok=True)\n",
        "\n",
        "# Ordenar os bairros pela quantidade de CEPs em ordem decrescente\n",
        "try:\n",
        "    bairros_ordenados = df['Bairro'].value_counts().index\n",
        "except Exception as e:\n",
        "    print(f\"Erro ao ordenar os bairros: {str(e)}\")\n",
        "    bairros_ordenados = []\n",
        "\n",
        "# Salvar os bairros em arquivos CSV\n",
        "for bairro in bairros_ordenados:\n",
        "    try:\n",
        "        df_bairro = df[df['Bairro'] == bairro]  # Filtrar por bairro\n",
        "        num_ceps = len(df_bairro)  # Contar o número de CEPs para esse bairro\n",
        "\n",
        "        # Nome do arquivo\n",
        "        file_name = f'{num_ceps}_CEPs_{bairro}.csv'\n",
        "\n",
        "        # Caminho completo do arquivo\n",
        "        file_path = os.path.join(output_dir, file_name)\n",
        "\n",
        "        # Salvar como CSV\n",
        "        df_bairro.to_csv(file_path, index=False)\n",
        "\n",
        "        print(f\"Arquivo {file_name} salvo com sucesso!\")\n",
        "    except Exception as e:\n",
        "        print(f\"Erro ao processar o bairro {bairro}: {str(e)}\")\n",
        "\n",
        "print(\"Processo concluído.\")"
      ],
      "metadata": {
        "id": "lhvAFyJBKVIm"
      },
      "execution_count": null,
      "outputs": []
    },
    {
      "cell_type": "markdown",
      "source": [
        "Este script carrega o arquivo \"SP_38345_CEPs.xlsx\", extrai os dados do bairro \"Centro\", conta o número de CEPs para esse bairro, e salva os dados em um arquivo CSV com o nome contendo a quantidade de CEPs e o nome do bairro escolhido. Se ocorrer algum erro durante o processo, uma mensagem de erro será exibida.\n",
        "1.\tScript para Google Colab aonde ele vai na /content/drive/MyDrive/Dados/Estados/SP_38345_CEPs.xlsx traz “Centro”.\n",
        "\n",
        "2.\tO nome do arquivo é quantidade de cep por exemplo (235_CEPs_nome do bairro) escolhido.\n",
        "3.\tSerá salvo /content/drive/MyDrive/Dados/Uploand_Google_Earth no formato CSV.\n",
        "4.\tSe possuir erro, avise!\n"
      ],
      "metadata": {
        "id": "CBC1iDCAiGOQ"
      }
    },
    {
      "cell_type": "code",
      "source": [
        "import pandas as pd\n",
        "\n",
        "# Montar o Google Drive\n",
        "from google.colab import drive\n",
        "drive.mount('/content/drive')\n",
        "\n",
        "# Caminho do arquivo Excel\n",
        "file_path = '/content/drive/MyDrive/Dados/Estados/SP_38345_CEPs.xlsx'\n",
        "\n",
        "# Tentar carregar o arquivo Excel e extrair o bairro \"Centro\"\n",
        "try:\n",
        "    df = pd.read_excel(file_path)\n",
        "    df_centro = df[df['Bairro'] == 'Centro']\n",
        "except Exception as e:\n",
        "    print(f\"Erro ao carregar o arquivo Excel ou ao extrair o bairro 'Centro': {str(e)}\")\n",
        "    exit()\n",
        "\n",
        "# Verificar se há dados para o bairro \"Centro\"\n",
        "if df_centro.empty:\n",
        "    print(\"Não foram encontrados dados para o bairro 'Centro'.\")\n",
        "    exit()\n",
        "\n",
        "# Contar o número de CEPs para o bairro \"Centro\"\n",
        "num_ceps = len(df_centro)\n",
        "\n",
        "# Nome do arquivo\n",
        "file_name = f'{num_ceps}_CEPs_Centro.csv'\n",
        "\n",
        "# Caminho completo do arquivo\n",
        "output_dir = '/content/drive/MyDrive/Dados/Uploand_Google_Earth/'\n",
        "file_path = output_dir + file_name\n",
        "\n",
        "# Tentar salvar o arquivo CSV\n",
        "try:\n",
        "    df_centro.to_csv(file_path, index=False)\n",
        "    print(f\"Arquivo '{file_name}' salvo com sucesso!\")\n",
        "except Exception as e:\n",
        "    print(f\"Erro ao salvar o arquivo CSV: {str(e)}\")"
      ],
      "metadata": {
        "colab": {
          "base_uri": "https://localhost:8080/"
        },
        "id": "8QVXMmLYiIuI",
        "outputId": "7b021608-6738-4b84-b67e-21ff50a39d7b"
      },
      "execution_count": 18,
      "outputs": [
        {
          "output_type": "stream",
          "name": "stdout",
          "text": [
            "Drive already mounted at /content/drive; to attempt to forcibly remount, call drive.mount(\"/content/drive\", force_remount=True).\n",
            "Arquivo '29_CEPs_Centro.csv' salvo com sucesso!\n"
          ]
        }
      ]
    },
    {
      "cell_type": "markdown",
      "source": [
        "Limpara pasta Diretório"
      ],
      "metadata": {
        "id": "4KudC3nXjGVi"
      }
    },
    {
      "cell_type": "code",
      "source": [
        "import os\n",
        "\n",
        "# Pasta que deseja limpar\n",
        "folder_path = '/content/drive/MyDrive/Dados/Uploand_Google_Earth'\n",
        "\n",
        "# Verificar se o diretório existe\n",
        "if os.path.exists(folder_path):\n",
        "    # Listar todos os arquivos e subpastas dentro do diretório\n",
        "    files = os.listdir(folder_path)\n",
        "\n",
        "    # Remover cada arquivo e subpasta\n",
        "    for file in files:\n",
        "        file_path = os.path.join(folder_path, file)\n",
        "\n",
        "        try:\n",
        "            if os.path.isfile(file_path):\n",
        "                # Remover o arquivo\n",
        "                os.remove(file_path)\n",
        "                print(f\"Arquivo {file} removido com sucesso!\")\n",
        "            elif os.path.isdir(file_path):\n",
        "                # Remover a subpasta e todo o seu conteúdo\n",
        "                os.rmdir(file_path)\n",
        "                print(f\"Subpasta {file} removida com sucesso!\")\n",
        "        except Exception as e:\n",
        "            print(f\"Erro ao remover {file}: {str(e)}\")\n",
        "else:\n",
        "    print(\"O diretório especificado não existe.\")"
      ],
      "metadata": {
        "id": "nL6uUWOyjKNs"
      },
      "execution_count": null,
      "outputs": []
    },
    {
      "cell_type": "markdown",
      "source": [
        "Abrindo mapa"
      ],
      "metadata": {
        "id": "vI5uy5WemZVd"
      }
    },
    {
      "cell_type": "code",
      "source": [
        "!pip install folium  # Instale a biblioteca folium\n",
        "\n",
        "import folium\n",
        "\n",
        "# Criar um mapa centrado em uma localização específica\n",
        "mapa = folium.Map(location=[-23.5505, -46.6333], zoom_start=10)  # São Paulo\n",
        "\n",
        "# Adicionar um marcador\n",
        "folium.Marker([-23.5505, -46.6333], tooltip='São Paulo').add_to(mapa)\n",
        "\n",
        "# Exibir o mapa\n",
        "mapa"
      ],
      "metadata": {
        "colab": {
          "base_uri": "https://localhost:8080/",
          "height": 1000
        },
        "id": "uipYjSZpmiQ9",
        "outputId": "b657d9d1-efc2-4119-e230-689d92fef967"
      },
      "execution_count": 22,
      "outputs": [
        {
          "output_type": "stream",
          "name": "stdout",
          "text": [
            "Requirement already satisfied: folium in /usr/local/lib/python3.10/dist-packages (0.14.0)\n",
            "Requirement already satisfied: branca>=0.6.0 in /usr/local/lib/python3.10/dist-packages (from folium) (0.7.1)\n",
            "Requirement already satisfied: jinja2>=2.9 in /usr/local/lib/python3.10/dist-packages (from folium) (3.1.3)\n",
            "Requirement already satisfied: numpy in /usr/local/lib/python3.10/dist-packages (from folium) (1.25.2)\n",
            "Requirement already satisfied: requests in /usr/local/lib/python3.10/dist-packages (from folium) (2.31.0)\n",
            "Requirement already satisfied: MarkupSafe>=2.0 in /usr/local/lib/python3.10/dist-packages (from jinja2>=2.9->folium) (2.1.5)\n",
            "Requirement already satisfied: charset-normalizer<4,>=2 in /usr/local/lib/python3.10/dist-packages (from requests->folium) (3.3.2)\n",
            "Requirement already satisfied: idna<4,>=2.5 in /usr/local/lib/python3.10/dist-packages (from requests->folium) (3.6)\n",
            "Requirement already satisfied: urllib3<3,>=1.21.1 in /usr/local/lib/python3.10/dist-packages (from requests->folium) (2.0.7)\n",
            "Requirement already satisfied: certifi>=2017.4.17 in /usr/local/lib/python3.10/dist-packages (from requests->folium) (2024.2.2)\n"
          ]
        },
        {
          "output_type": "execute_result",
          "data": {
            "text/plain": [
              "<folium.folium.Map at 0x7eb8ce80c730>"
            ],
            "text/html": [
              "<div style=\"width:100%;\"><div style=\"position:relative;width:100%;height:0;padding-bottom:60%;\"><span style=\"color:#565656\">Make this Notebook Trusted to load map: File -> Trust Notebook</span><iframe srcdoc=\"&lt;!DOCTYPE html&gt;\n",
              "&lt;html&gt;\n",
              "&lt;head&gt;\n",
              "    \n",
              "    &lt;meta http-equiv=&quot;content-type&quot; content=&quot;text/html; charset=UTF-8&quot; /&gt;\n",
              "    \n",
              "        &lt;script&gt;\n",
              "            L_NO_TOUCH = false;\n",
              "            L_DISABLE_3D = false;\n",
              "        &lt;/script&gt;\n",
              "    \n",
              "    &lt;style&gt;html, body {width: 100%;height: 100%;margin: 0;padding: 0;}&lt;/style&gt;\n",
              "    &lt;style&gt;#map {position:absolute;top:0;bottom:0;right:0;left:0;}&lt;/style&gt;\n",
              "    &lt;script src=&quot;https://cdn.jsdelivr.net/npm/leaflet@1.9.3/dist/leaflet.js&quot;&gt;&lt;/script&gt;\n",
              "    &lt;script src=&quot;https://code.jquery.com/jquery-1.12.4.min.js&quot;&gt;&lt;/script&gt;\n",
              "    &lt;script src=&quot;https://cdn.jsdelivr.net/npm/bootstrap@5.2.2/dist/js/bootstrap.bundle.min.js&quot;&gt;&lt;/script&gt;\n",
              "    &lt;script src=&quot;https://cdnjs.cloudflare.com/ajax/libs/Leaflet.awesome-markers/2.0.2/leaflet.awesome-markers.js&quot;&gt;&lt;/script&gt;\n",
              "    &lt;link rel=&quot;stylesheet&quot; href=&quot;https://cdn.jsdelivr.net/npm/leaflet@1.9.3/dist/leaflet.css&quot;/&gt;\n",
              "    &lt;link rel=&quot;stylesheet&quot; href=&quot;https://cdn.jsdelivr.net/npm/bootstrap@5.2.2/dist/css/bootstrap.min.css&quot;/&gt;\n",
              "    &lt;link rel=&quot;stylesheet&quot; href=&quot;https://netdna.bootstrapcdn.com/bootstrap/3.0.0/css/bootstrap.min.css&quot;/&gt;\n",
              "    &lt;link rel=&quot;stylesheet&quot; href=&quot;https://cdn.jsdelivr.net/npm/@fortawesome/fontawesome-free@6.2.0/css/all.min.css&quot;/&gt;\n",
              "    &lt;link rel=&quot;stylesheet&quot; href=&quot;https://cdnjs.cloudflare.com/ajax/libs/Leaflet.awesome-markers/2.0.2/leaflet.awesome-markers.css&quot;/&gt;\n",
              "    &lt;link rel=&quot;stylesheet&quot; href=&quot;https://cdn.jsdelivr.net/gh/python-visualization/folium/folium/templates/leaflet.awesome.rotate.min.css&quot;/&gt;\n",
              "    \n",
              "            &lt;meta name=&quot;viewport&quot; content=&quot;width=device-width,\n",
              "                initial-scale=1.0, maximum-scale=1.0, user-scalable=no&quot; /&gt;\n",
              "            &lt;style&gt;\n",
              "                #map_8002185171819e0d73168bea26adb106 {\n",
              "                    position: relative;\n",
              "                    width: 100.0%;\n",
              "                    height: 100.0%;\n",
              "                    left: 0.0%;\n",
              "                    top: 0.0%;\n",
              "                }\n",
              "                .leaflet-container { font-size: 1rem; }\n",
              "            &lt;/style&gt;\n",
              "        \n",
              "&lt;/head&gt;\n",
              "&lt;body&gt;\n",
              "    \n",
              "    \n",
              "            &lt;div class=&quot;folium-map&quot; id=&quot;map_8002185171819e0d73168bea26adb106&quot; &gt;&lt;/div&gt;\n",
              "        \n",
              "&lt;/body&gt;\n",
              "&lt;script&gt;\n",
              "    \n",
              "    \n",
              "            var map_8002185171819e0d73168bea26adb106 = L.map(\n",
              "                &quot;map_8002185171819e0d73168bea26adb106&quot;,\n",
              "                {\n",
              "                    center: [-23.5505, -46.6333],\n",
              "                    crs: L.CRS.EPSG3857,\n",
              "                    zoom: 10,\n",
              "                    zoomControl: true,\n",
              "                    preferCanvas: false,\n",
              "                }\n",
              "            );\n",
              "\n",
              "            \n",
              "\n",
              "        \n",
              "    \n",
              "            var tile_layer_cc4b947ba2ec24c3f456601aa4fa7245 = L.tileLayer(\n",
              "                &quot;https://{s}.tile.openstreetmap.org/{z}/{x}/{y}.png&quot;,\n",
              "                {&quot;attribution&quot;: &quot;Data by \\u0026copy; \\u003ca target=\\&quot;_blank\\&quot; href=\\&quot;http://openstreetmap.org\\&quot;\\u003eOpenStreetMap\\u003c/a\\u003e, under \\u003ca target=\\&quot;_blank\\&quot; href=\\&quot;http://www.openstreetmap.org/copyright\\&quot;\\u003eODbL\\u003c/a\\u003e.&quot;, &quot;detectRetina&quot;: false, &quot;maxNativeZoom&quot;: 18, &quot;maxZoom&quot;: 18, &quot;minZoom&quot;: 0, &quot;noWrap&quot;: false, &quot;opacity&quot;: 1, &quot;subdomains&quot;: &quot;abc&quot;, &quot;tms&quot;: false}\n",
              "            ).addTo(map_8002185171819e0d73168bea26adb106);\n",
              "        \n",
              "    \n",
              "            var marker_a1c98c3dc5fa9819ff44cd33802ff888 = L.marker(\n",
              "                [-23.5505, -46.6333],\n",
              "                {}\n",
              "            ).addTo(map_8002185171819e0d73168bea26adb106);\n",
              "        \n",
              "    \n",
              "            marker_a1c98c3dc5fa9819ff44cd33802ff888.bindTooltip(\n",
              "                `&lt;div&gt;\n",
              "                     São Paulo\n",
              "                 &lt;/div&gt;`,\n",
              "                {&quot;sticky&quot;: true}\n",
              "            );\n",
              "        \n",
              "&lt;/script&gt;\n",
              "&lt;/html&gt;\" style=\"position:absolute;width:100%;height:100%;left:0;top:0;border:none !important;\" allowfullscreen webkitallowfullscreen mozallowfullscreen></iframe></div></div>"
            ]
          },
          "metadata": {},
          "execution_count": 22
        }
      ]
    },
    {
      "cell_type": "markdown",
      "source": [
        "limpar"
      ],
      "metadata": {
        "id": "fIwjK1RLrjMx"
      }
    },
    {
      "cell_type": "markdown",
      "source": [
        "Mudar"
      ],
      "metadata": {
        "id": "S4LOWPWMmsUI"
      }
    },
    {
      "cell_type": "code",
      "source": [
        "import folium\n",
        "import pandas as pd\n",
        "\n",
        "# Instalar a biblioteca folium\n",
        "!pip install folium\n",
        "\n",
        "# Carregar o arquivo CSV\n",
        "caminho_arquivo = '/content/drive/MyDrive/Dados/Uploand_Google_Earth/29_CEPs_Centro.csv'\n",
        "data = pd.read_csv(caminho_arquivo)\n",
        "\n",
        "# Criar um mapa centrado em uma localização específica\n",
        "mapa = folium.Map(location=[data['Latitude'].mean(), data['Longitude'].mean()], zoom_start=10)\n",
        "\n",
        "# Adicionar marcadores para cada coordenada no mapa\n",
        "for index, row in data.iterrows():\n",
        "    folium.Marker([row['Latitude'], row['Longitude']], tooltip=row['Nome_do_Ponto']).add_to(mapa)\n",
        "\n",
        "# Exibir o mapa\n",
        "mapa"
      ],
      "metadata": {
        "colab": {
          "base_uri": "https://localhost:8080/",
          "height": 688
        },
        "id": "MmFSDE2lmwJu",
        "outputId": "90c4b732-8156-46f6-ad2c-51978b0b2922"
      },
      "execution_count": 28,
      "outputs": [
        {
          "output_type": "stream",
          "name": "stdout",
          "text": [
            "Requirement already satisfied: folium in /usr/local/lib/python3.10/dist-packages (0.14.0)\n",
            "Requirement already satisfied: branca>=0.6.0 in /usr/local/lib/python3.10/dist-packages (from folium) (0.7.1)\n",
            "Requirement already satisfied: jinja2>=2.9 in /usr/local/lib/python3.10/dist-packages (from folium) (3.1.3)\n",
            "Requirement already satisfied: numpy in /usr/local/lib/python3.10/dist-packages (from folium) (1.25.2)\n",
            "Requirement already satisfied: requests in /usr/local/lib/python3.10/dist-packages (from folium) (2.31.0)\n",
            "Requirement already satisfied: MarkupSafe>=2.0 in /usr/local/lib/python3.10/dist-packages (from jinja2>=2.9->folium) (2.1.5)\n",
            "Requirement already satisfied: charset-normalizer<4,>=2 in /usr/local/lib/python3.10/dist-packages (from requests->folium) (3.3.2)\n",
            "Requirement already satisfied: idna<4,>=2.5 in /usr/local/lib/python3.10/dist-packages (from requests->folium) (3.6)\n",
            "Requirement already satisfied: urllib3<3,>=1.21.1 in /usr/local/lib/python3.10/dist-packages (from requests->folium) (2.0.7)\n",
            "Requirement already satisfied: certifi>=2017.4.17 in /usr/local/lib/python3.10/dist-packages (from requests->folium) (2024.2.2)\n"
          ]
        },
        {
          "output_type": "error",
          "ename": "KeyError",
          "evalue": "'Latitude'",
          "traceback": [
            "\u001b[0;31m---------------------------------------------------------------------------\u001b[0m",
            "\u001b[0;31mKeyError\u001b[0m                                  Traceback (most recent call last)",
            "\u001b[0;32m/usr/local/lib/python3.10/dist-packages/pandas/core/indexes/base.py\u001b[0m in \u001b[0;36mget_loc\u001b[0;34m(self, key, method, tolerance)\u001b[0m\n\u001b[1;32m   3801\u001b[0m             \u001b[0;32mtry\u001b[0m\u001b[0;34m:\u001b[0m\u001b[0;34m\u001b[0m\u001b[0;34m\u001b[0m\u001b[0m\n\u001b[0;32m-> 3802\u001b[0;31m                 \u001b[0;32mreturn\u001b[0m \u001b[0mself\u001b[0m\u001b[0;34m.\u001b[0m\u001b[0m_engine\u001b[0m\u001b[0;34m.\u001b[0m\u001b[0mget_loc\u001b[0m\u001b[0;34m(\u001b[0m\u001b[0mcasted_key\u001b[0m\u001b[0;34m)\u001b[0m\u001b[0;34m\u001b[0m\u001b[0;34m\u001b[0m\u001b[0m\n\u001b[0m\u001b[1;32m   3803\u001b[0m             \u001b[0;32mexcept\u001b[0m \u001b[0mKeyError\u001b[0m \u001b[0;32mas\u001b[0m \u001b[0merr\u001b[0m\u001b[0;34m:\u001b[0m\u001b[0;34m\u001b[0m\u001b[0;34m\u001b[0m\u001b[0m\n",
            "\u001b[0;32m/usr/local/lib/python3.10/dist-packages/pandas/_libs/index.pyx\u001b[0m in \u001b[0;36mpandas._libs.index.IndexEngine.get_loc\u001b[0;34m()\u001b[0m\n",
            "\u001b[0;32m/usr/local/lib/python3.10/dist-packages/pandas/_libs/index.pyx\u001b[0m in \u001b[0;36mpandas._libs.index.IndexEngine.get_loc\u001b[0;34m()\u001b[0m\n",
            "\u001b[0;32mpandas/_libs/hashtable_class_helper.pxi\u001b[0m in \u001b[0;36mpandas._libs.hashtable.PyObjectHashTable.get_item\u001b[0;34m()\u001b[0m\n",
            "\u001b[0;32mpandas/_libs/hashtable_class_helper.pxi\u001b[0m in \u001b[0;36mpandas._libs.hashtable.PyObjectHashTable.get_item\u001b[0;34m()\u001b[0m\n",
            "\u001b[0;31mKeyError\u001b[0m: 'Latitude'",
            "\nThe above exception was the direct cause of the following exception:\n",
            "\u001b[0;31mKeyError\u001b[0m                                  Traceback (most recent call last)",
            "\u001b[0;32m<ipython-input-28-93ccb7db5307>\u001b[0m in \u001b[0;36m<cell line: 12>\u001b[0;34m()\u001b[0m\n\u001b[1;32m     10\u001b[0m \u001b[0;34m\u001b[0m\u001b[0m\n\u001b[1;32m     11\u001b[0m \u001b[0;31m# Criar um mapa centrado em uma localização específica\u001b[0m\u001b[0;34m\u001b[0m\u001b[0;34m\u001b[0m\u001b[0m\n\u001b[0;32m---> 12\u001b[0;31m \u001b[0mmapa\u001b[0m \u001b[0;34m=\u001b[0m \u001b[0mfolium\u001b[0m\u001b[0;34m.\u001b[0m\u001b[0mMap\u001b[0m\u001b[0;34m(\u001b[0m\u001b[0mlocation\u001b[0m\u001b[0;34m=\u001b[0m\u001b[0;34m[\u001b[0m\u001b[0mdata\u001b[0m\u001b[0;34m[\u001b[0m\u001b[0;34m'Latitude'\u001b[0m\u001b[0;34m]\u001b[0m\u001b[0;34m.\u001b[0m\u001b[0mmean\u001b[0m\u001b[0;34m(\u001b[0m\u001b[0;34m)\u001b[0m\u001b[0;34m,\u001b[0m \u001b[0mdata\u001b[0m\u001b[0;34m[\u001b[0m\u001b[0;34m'Longitude'\u001b[0m\u001b[0;34m]\u001b[0m\u001b[0;34m.\u001b[0m\u001b[0mmean\u001b[0m\u001b[0;34m(\u001b[0m\u001b[0;34m)\u001b[0m\u001b[0;34m]\u001b[0m\u001b[0;34m,\u001b[0m \u001b[0mzoom_start\u001b[0m\u001b[0;34m=\u001b[0m\u001b[0;36m10\u001b[0m\u001b[0;34m)\u001b[0m\u001b[0;34m\u001b[0m\u001b[0;34m\u001b[0m\u001b[0m\n\u001b[0m\u001b[1;32m     13\u001b[0m \u001b[0;34m\u001b[0m\u001b[0m\n\u001b[1;32m     14\u001b[0m \u001b[0;31m# Adicionar marcadores para cada coordenada no mapa\u001b[0m\u001b[0;34m\u001b[0m\u001b[0;34m\u001b[0m\u001b[0m\n",
            "\u001b[0;32m/usr/local/lib/python3.10/dist-packages/pandas/core/frame.py\u001b[0m in \u001b[0;36m__getitem__\u001b[0;34m(self, key)\u001b[0m\n\u001b[1;32m   3805\u001b[0m             \u001b[0;32mif\u001b[0m \u001b[0mself\u001b[0m\u001b[0;34m.\u001b[0m\u001b[0mcolumns\u001b[0m\u001b[0;34m.\u001b[0m\u001b[0mnlevels\u001b[0m \u001b[0;34m>\u001b[0m \u001b[0;36m1\u001b[0m\u001b[0;34m:\u001b[0m\u001b[0;34m\u001b[0m\u001b[0;34m\u001b[0m\u001b[0m\n\u001b[1;32m   3806\u001b[0m                 \u001b[0;32mreturn\u001b[0m \u001b[0mself\u001b[0m\u001b[0;34m.\u001b[0m\u001b[0m_getitem_multilevel\u001b[0m\u001b[0;34m(\u001b[0m\u001b[0mkey\u001b[0m\u001b[0;34m)\u001b[0m\u001b[0;34m\u001b[0m\u001b[0;34m\u001b[0m\u001b[0m\n\u001b[0;32m-> 3807\u001b[0;31m             \u001b[0mindexer\u001b[0m \u001b[0;34m=\u001b[0m \u001b[0mself\u001b[0m\u001b[0;34m.\u001b[0m\u001b[0mcolumns\u001b[0m\u001b[0;34m.\u001b[0m\u001b[0mget_loc\u001b[0m\u001b[0;34m(\u001b[0m\u001b[0mkey\u001b[0m\u001b[0;34m)\u001b[0m\u001b[0;34m\u001b[0m\u001b[0;34m\u001b[0m\u001b[0m\n\u001b[0m\u001b[1;32m   3808\u001b[0m             \u001b[0;32mif\u001b[0m \u001b[0mis_integer\u001b[0m\u001b[0;34m(\u001b[0m\u001b[0mindexer\u001b[0m\u001b[0;34m)\u001b[0m\u001b[0;34m:\u001b[0m\u001b[0;34m\u001b[0m\u001b[0;34m\u001b[0m\u001b[0m\n\u001b[1;32m   3809\u001b[0m                 \u001b[0mindexer\u001b[0m \u001b[0;34m=\u001b[0m \u001b[0;34m[\u001b[0m\u001b[0mindexer\u001b[0m\u001b[0;34m]\u001b[0m\u001b[0;34m\u001b[0m\u001b[0;34m\u001b[0m\u001b[0m\n",
            "\u001b[0;32m/usr/local/lib/python3.10/dist-packages/pandas/core/indexes/base.py\u001b[0m in \u001b[0;36mget_loc\u001b[0;34m(self, key, method, tolerance)\u001b[0m\n\u001b[1;32m   3802\u001b[0m                 \u001b[0;32mreturn\u001b[0m \u001b[0mself\u001b[0m\u001b[0;34m.\u001b[0m\u001b[0m_engine\u001b[0m\u001b[0;34m.\u001b[0m\u001b[0mget_loc\u001b[0m\u001b[0;34m(\u001b[0m\u001b[0mcasted_key\u001b[0m\u001b[0;34m)\u001b[0m\u001b[0;34m\u001b[0m\u001b[0;34m\u001b[0m\u001b[0m\n\u001b[1;32m   3803\u001b[0m             \u001b[0;32mexcept\u001b[0m \u001b[0mKeyError\u001b[0m \u001b[0;32mas\u001b[0m \u001b[0merr\u001b[0m\u001b[0;34m:\u001b[0m\u001b[0;34m\u001b[0m\u001b[0;34m\u001b[0m\u001b[0m\n\u001b[0;32m-> 3804\u001b[0;31m                 \u001b[0;32mraise\u001b[0m \u001b[0mKeyError\u001b[0m\u001b[0;34m(\u001b[0m\u001b[0mkey\u001b[0m\u001b[0;34m)\u001b[0m \u001b[0;32mfrom\u001b[0m \u001b[0merr\u001b[0m\u001b[0;34m\u001b[0m\u001b[0;34m\u001b[0m\u001b[0m\n\u001b[0m\u001b[1;32m   3805\u001b[0m             \u001b[0;32mexcept\u001b[0m \u001b[0mTypeError\u001b[0m\u001b[0;34m:\u001b[0m\u001b[0;34m\u001b[0m\u001b[0;34m\u001b[0m\u001b[0m\n\u001b[1;32m   3806\u001b[0m                 \u001b[0;31m# If we have a listlike key, _check_indexing_error will raise\u001b[0m\u001b[0;34m\u001b[0m\u001b[0;34m\u001b[0m\u001b[0m\n",
            "\u001b[0;31mKeyError\u001b[0m: 'Latitude'"
          ]
        }
      ]
    }
  ]
}