{
  "nbformat": 4,
  "nbformat_minor": 0,
  "metadata": {
    "colab": {
      "provenance": [],
      "mount_file_id": "1RP-bQoOkcqGHj6d-31RSgyXHLUjl4B5w",
      "authorship_tag": "ABX9TyPD3hoN8qQ3atpnT5hTpBzI",
      "include_colab_link": true
    },
    "kernelspec": {
      "name": "python3",
      "display_name": "Python 3"
    },
    "language_info": {
      "name": "python"
    }
  },
  "cells": [
    {
      "cell_type": "markdown",
      "metadata": {
        "id": "view-in-github",
        "colab_type": "text"
      },
      "source": [
        "<a href=\"https://colab.research.google.com/github/donesalmeida/AnalyticsEstudos/blob/main/Untitled0.ipynb\" target=\"_parent\"><img src=\"https://colab.research.google.com/assets/colab-badge.svg\" alt=\"Open In Colab\"/></a>"
      ]
    },
    {
      "cell_type": "markdown",
      "source": [
        "Este script monta o Google Drive no ambiente do Colab, carrega o arquivo Excel especificado, identifica as UFs únicas na coluna 'UF', e salva uma planilha separada para cada UF na pasta especificada. Certifique-se de substituir\n"
      ],
      "metadata": {
        "id": "-fJq-XmO_tcF"
      }
    },
    {
      "cell_type": "code",
      "source": [
        "import pandas as pd\n",
        "\n",
        "# Montar o Google Drive\n",
        "from google.colab import drive\n",
        "drive.mount('/content/drive')\n",
        "\n",
        "# Carregar o arquivo Excel\n",
        "file_path = '/content/drive/MyDrive/Dados/CEP Risco_.xlsx'\n",
        "df = pd.read_excel(file_path)\n",
        "\n",
        "# Criar diretório para armazenar as planilhas dos Estados\n",
        "import os\n",
        "output_dir = '/content/drive/MyDrive/Dados/Estados/'\n",
        "os.makedirs(output_dir, exist_ok=True)\n",
        "\n",
        "# Identificar UFs únicas na coluna 'UF'\n",
        "ufs_unicas = df['UF'].unique()\n",
        "\n",
        "# Salvar uma planilha para cada UF\n",
        "for uf in ufs_unicas:\n",
        "    # Filtrar o DataFrame para a UF atual\n",
        "    df_uf = df[df['UF'] == uf]\n",
        "\n",
        "    # Criar o nome do arquivo para a planilha\n",
        "    file_name = f'{uf}.xlsx'\n",
        "    file_path = os.path.join(output_dir, file_name)\n",
        "\n",
        "    # Salvar o DataFrame como uma planilha do Excel\n",
        "    df_uf.to_excel(file_path, index=False)\n",
        "\n",
        "print(\"Planilhas salvas com sucesso!\")"
      ],
      "metadata": {
        "id": "Xhs8kMKOAB-_"
      },
      "execution_count": null,
      "outputs": []
    },
    {
      "cell_type": "markdown",
      "source": [
        "Certifique-se de substituir \"MyDrive\" pelo caminho correto para o seu arquivo Excel contendo os dados de São Paulo. Este script criará um arquivo separado para cada bairro encontrado na coluna 'Bairro' e salvará esses arquivos na pasta \"MyDrive\" no formato \"CSV\""
      ],
      "metadata": {
        "id": "yw1p1B5dCIcb"
      }
    },
    {
      "cell_type": "code",
      "source": [
        "import pandas as pd\n",
        "import os\n",
        "\n",
        "# Montar o Google Drive\n",
        "from google.colab import drive\n",
        "drive.mount('/content/drive')\n",
        "\n",
        "# Caminho do arquivo SP.xlsx\n",
        "file_path = '/content/drive/MyDrive/Dados/Estados/SP.xlsx'\n",
        "\n",
        "# Carregar o arquivo Excel\n",
        "df = pd.read_excel(file_path)\n",
        "\n",
        "# Criar diretório para armazenar as planilhas dos bairros de SP\n",
        "output_dir = '/content/drive/MyDrive/Dados/Uploand_Google_Earth/SP_Bairros/'\n",
        "os.makedirs(output_dir, exist_ok=True)\n",
        "\n",
        "# Identificar bairros únicos na coluna 'Bairro'\n",
        "bairros_unicos = df['Bairro'].unique()\n",
        "\n",
        "# Salvar uma planilha para cada bairro\n",
        "for bairro in bairros_unicos:\n",
        "    # Filtrar o DataFrame para o bairro atual\n",
        "    df_bairro = df[df['Bairro'] == bairro]\n",
        "\n",
        "    # Criar o nome do arquivo para a planilha\n",
        "    file_name = f'{bairro}.csv'\n",
        "    file_path = os.path.join(output_dir, file_name)\n",
        "\n",
        "    # Salvar o DataFrame como um arquivo CSV\n",
        "    df_bairro.to_csv(file_path, index=False)\n",
        "\n",
        "    # Contar quantas pastas foram criadas para cada bairro\n",
        "    num_pastas = len(os.listdir(output_dir))\n",
        "\n",
        "    # Mensagem indicando quantas pastas foram criadas para o bairro atual\n",
        "    print(f'{num_pastas} pastas foram criadas para o bairro {bairro}')\n",
        "\n",
        "print(\"Planilhas dos bairros de SP salvas com sucesso!\")"
      ],
      "metadata": {
        "colab": {
          "base_uri": "https://localhost:8080/",
          "height": 1000
        },
        "id": "lhvAFyJBKVIm",
        "outputId": "f070b06a-e386-49a7-ebf0-7b0b15f931ee"
      },
      "execution_count": 3,
      "outputs": [
        {
          "output_type": "stream",
          "name": "stdout",
          "text": [
            "Drive already mounted at /content/drive; to attempt to forcibly remount, call drive.mount(\"/content/drive\", force_remount=True).\n",
            "1 pastas foram criadas para o bairro Morro de Nova Cintra\n",
            "2 pastas foram criadas para o bairro Vila Progresso\n",
            "3 pastas foram criadas para o bairro Morro Santa Maria\n",
            "4 pastas foram criadas para o bairro Morro de São Bento\n",
            "5 pastas foram criadas para o bairro Morro do Saboo\n",
            "6 pastas foram criadas para o bairro Morro da Penha\n",
            "7 pastas foram criadas para o bairro Morro do Pacheco\n",
            "8 pastas foram criadas para o bairro Vila São Bento\n",
            "9 pastas foram criadas para o bairro Morro do Bufo\n",
            "10 pastas foram criadas para o bairro Areia Branca\n",
            "11 pastas foram criadas para o bairro Rádio Club\n",
            "12 pastas foram criadas para o bairro Castelo\n",
            "13 pastas foram criadas para o bairro Bom Retiro\n",
            "14 pastas foram criadas para o bairro Santa Maria\n",
            "15 pastas foram criadas para o bairro Chico de Paula\n",
            "16 pastas foram criadas para o bairro Vila Margarida\n",
            "17 pastas foram criadas para o bairro Planalto Bela Vista\n",
            "18 pastas foram criadas para o bairro Vila Mateo Bei\n",
            "19 pastas foram criadas para o bairro Parque São Vicente\n",
            "20 pastas foram criadas para o bairro Esplanada dos Barreiros\n",
            "21 pastas foram criadas para o bairro Cidade Naútica\n",
            "22 pastas foram criadas para o bairro Samarita\n",
            "23 pastas foram criadas para o bairro Jardim Sorocabanos\n",
            "24 pastas foram criadas para o bairro Vila Iolanda\n",
            "25 pastas foram criadas para o bairro Vila Matias\n",
            "26 pastas foram criadas para o bairro Vila Ema\n",
            "27 pastas foram criadas para o bairro Parque das Bandeiras\n",
            "28 pastas foram criadas para o bairro Vila Nova São Vicente\n",
            "29 pastas foram criadas para o bairro Jardim Rio Branco\n",
            "30 pastas foram criadas para o bairro Jardim Rio Negro\n",
            "31 pastas foram criadas para o bairro Jardim Irmã Dolores\n",
            "32 pastas foram criadas para o bairro Parque Continental\n",
            "33 pastas foram criadas para o bairro Conjunto Residencial Humaitá\n",
            "34 pastas foram criadas para o bairro Vila Nossa Senhora de Fátima\n",
            "35 pastas foram criadas para o bairro Conjunto Residencial Tancredo Neves\n",
            "36 pastas foram criadas para o bairro Vila Jockei Clube\n",
            "37 pastas foram criadas para o bairro Catiapoa\n",
            "38 pastas foram criadas para o bairro Sá Catarina de Moraes\n",
            "39 pastas foram criadas para o bairro Vila Cascatinha\n",
            "40 pastas foram criadas para o bairro Vila Rosalina\n",
            "41 pastas foram criadas para o bairro Vila Santa Rosa\n",
            "42 pastas foram criadas para o bairro Jardim Primavera\n",
            "43 pastas foram criadas para o bairro Vila da Noite\n",
            "44 pastas foram criadas para o bairro Balneário Cidade Atlântica\n",
            "45 pastas foram criadas para o bairro Parque Enseada\n",
            "46 pastas foram criadas para o bairro Balneario Praia do Perequê\n",
            "47 pastas foram criadas para o bairro Balneário Praia do Pernambuco\n",
            "48 pastas foram criadas para o bairro Vila Alice (Vicente de Carvalho)\n",
            "49 pastas foram criadas para o bairro Jardim Cunhambebe (Vicente de Carvalho)\n",
            "50 pastas foram criadas para o bairro Jardim Enguaguassu (Vicente de Carvalho)\n",
            "51 pastas foram criadas para o bairro Sítio Paecara (Vicente de Carvalho)\n",
            "52 pastas foram criadas para o bairro Jardim Santense (Vicente de Carvalho)\n",
            "53 pastas foram criadas para o bairro Parque Estuário (Vicente de Carvalho)\n",
            "54 pastas foram criadas para o bairro Jardim Progresso (Vicente de Carvalho)\n",
            "55 pastas foram criadas para o bairro Vila Áurea (Vicente de Carvalho)\n",
            "56 pastas foram criadas para o bairro Jardim Boa Esperança (Vicente de Carvalho)\n",
            "57 pastas foram criadas para o bairro Jardim Conceiçãozinha (Vicente de Carvalho)\n",
            "58 pastas foram criadas para o bairro Jardim Monteiro da Cruz (Vicente de Carvalho)\n",
            "59 pastas foram criadas para o bairro Jardim Alvorada (Vicente de Carvalho)\n",
            "60 pastas foram criadas para o bairro Jardim Esplanada do Castelo (Vicente de Carvalho)\n",
            "61 pastas foram criadas para o bairro Jardim Maravilha (Vicente de Carvalho)\n",
            "62 pastas foram criadas para o bairro Sitio Conceiçãozinha (Vicente de Carvalho)\n",
            "63 pastas foram criadas para o bairro Jardim Santana (Vicente de Carvalho)\n",
            "64 pastas foram criadas para o bairro Paecara\n",
            "65 pastas foram criadas para o bairro Morrinhos\n",
            "66 pastas foram criadas para o bairro Jardim Brasil I\n",
            "67 pastas foram criadas para o bairro Jardim Brasil II\n",
            "68 pastas foram criadas para o bairro Mirim\n",
            "69 pastas foram criadas para o bairro Melvi\n",
            "70 pastas foram criadas para o bairro Samambaia\n",
            "71 pastas foram criadas para o bairro Esmeralda\n",
            "72 pastas foram criadas para o bairro Ribeirópolis\n",
            "73 pastas foram criadas para o bairro Nova Mirim\n",
            "74 pastas foram criadas para o bairro Anhanguera\n",
            "75 pastas foram criadas para o bairro Quietude\n",
            "76 pastas foram criadas para o bairro Antártica\n",
            "77 pastas foram criadas para o bairro Glória\n",
            "78 pastas foram criadas para o bairro Vila Sônia\n",
            "79 pastas foram criadas para o bairro Sítio do Campo\n",
            "80 pastas foram criadas para o bairro Tupiry\n",
            "81 pastas foram criadas para o bairro Ilha das Caieiras\n",
            "82 pastas foram criadas para o bairro Jardim Torrão de Ouro\n",
            "83 pastas foram criadas para o bairro Vila Salles\n",
            "84 pastas foram criadas para o bairro Vila Formosa\n",
            "85 pastas foram criadas para o bairro Vila Alberto Simões\n",
            "86 pastas foram criadas para o bairro Vila Antônio Francisco\n",
            "87 pastas foram criadas para o bairro Jardim São Pedro\n",
            "88 pastas foram criadas para o bairro Chácara São Domingos\n",
            "89 pastas foram criadas para o bairro Parque dos Cisnes\n",
            "90 pastas foram criadas para o bairro Jardim Estoril\n",
            "91 pastas foram criadas para o bairro Jardim Maísa\n",
            "92 pastas foram criadas para o bairro Jardim Esmeraldina\n",
            "93 pastas foram criadas para o bairro Jardim Monte Líbano\n",
            "94 pastas foram criadas para o bairro Jardim Samambaia\n",
            "95 pastas foram criadas para o bairro Jardim Aliança\n",
            "96 pastas foram criadas para o bairro Chácara Buriti\n"
          ]
        },
        {
          "output_type": "error",
          "ename": "OSError",
          "evalue": "Cannot save file into a non-existent directory: '/content/drive/MyDrive/Dados/Uploand_Google_Earth/SP_Bairros/Jardim Monte Cristo'",
          "traceback": [
            "\u001b[0;31m---------------------------------------------------------------------------\u001b[0m",
            "\u001b[0;31mOSError\u001b[0m                                   Traceback (most recent call last)",
            "\u001b[0;32m<ipython-input-3-183b4037a68d>\u001b[0m in \u001b[0;36m<cell line: 22>\u001b[0;34m()\u001b[0m\n\u001b[1;32m     29\u001b[0m \u001b[0;34m\u001b[0m\u001b[0m\n\u001b[1;32m     30\u001b[0m     \u001b[0;31m# Salvar o DataFrame como um arquivo CSV\u001b[0m\u001b[0;34m\u001b[0m\u001b[0;34m\u001b[0m\u001b[0m\n\u001b[0;32m---> 31\u001b[0;31m     \u001b[0mdf_bairro\u001b[0m\u001b[0;34m.\u001b[0m\u001b[0mto_csv\u001b[0m\u001b[0;34m(\u001b[0m\u001b[0mfile_path\u001b[0m\u001b[0;34m,\u001b[0m \u001b[0mindex\u001b[0m\u001b[0;34m=\u001b[0m\u001b[0;32mFalse\u001b[0m\u001b[0;34m)\u001b[0m\u001b[0;34m\u001b[0m\u001b[0;34m\u001b[0m\u001b[0m\n\u001b[0m\u001b[1;32m     32\u001b[0m \u001b[0;34m\u001b[0m\u001b[0m\n\u001b[1;32m     33\u001b[0m     \u001b[0;31m# Contar quantas pastas foram criadas para cada bairro\u001b[0m\u001b[0;34m\u001b[0m\u001b[0;34m\u001b[0m\u001b[0m\n",
            "\u001b[0;32m/usr/local/lib/python3.10/dist-packages/pandas/util/_decorators.py\u001b[0m in \u001b[0;36mwrapper\u001b[0;34m(*args, **kwargs)\u001b[0m\n\u001b[1;32m    209\u001b[0m                 \u001b[0;32melse\u001b[0m\u001b[0;34m:\u001b[0m\u001b[0;34m\u001b[0m\u001b[0;34m\u001b[0m\u001b[0m\n\u001b[1;32m    210\u001b[0m                     \u001b[0mkwargs\u001b[0m\u001b[0;34m[\u001b[0m\u001b[0mnew_arg_name\u001b[0m\u001b[0;34m]\u001b[0m \u001b[0;34m=\u001b[0m \u001b[0mnew_arg_value\u001b[0m\u001b[0;34m\u001b[0m\u001b[0;34m\u001b[0m\u001b[0m\n\u001b[0;32m--> 211\u001b[0;31m             \u001b[0;32mreturn\u001b[0m \u001b[0mfunc\u001b[0m\u001b[0;34m(\u001b[0m\u001b[0;34m*\u001b[0m\u001b[0margs\u001b[0m\u001b[0;34m,\u001b[0m \u001b[0;34m**\u001b[0m\u001b[0mkwargs\u001b[0m\u001b[0;34m)\u001b[0m\u001b[0;34m\u001b[0m\u001b[0;34m\u001b[0m\u001b[0m\n\u001b[0m\u001b[1;32m    212\u001b[0m \u001b[0;34m\u001b[0m\u001b[0m\n\u001b[1;32m    213\u001b[0m         \u001b[0;32mreturn\u001b[0m \u001b[0mcast\u001b[0m\u001b[0;34m(\u001b[0m\u001b[0mF\u001b[0m\u001b[0;34m,\u001b[0m \u001b[0mwrapper\u001b[0m\u001b[0;34m)\u001b[0m\u001b[0;34m\u001b[0m\u001b[0;34m\u001b[0m\u001b[0m\n",
            "\u001b[0;32m/usr/local/lib/python3.10/dist-packages/pandas/core/generic.py\u001b[0m in \u001b[0;36mto_csv\u001b[0;34m(self, path_or_buf, sep, na_rep, float_format, columns, header, index, index_label, mode, encoding, compression, quoting, quotechar, lineterminator, chunksize, date_format, doublequote, escapechar, decimal, errors, storage_options)\u001b[0m\n\u001b[1;32m   3718\u001b[0m         )\n\u001b[1;32m   3719\u001b[0m \u001b[0;34m\u001b[0m\u001b[0m\n\u001b[0;32m-> 3720\u001b[0;31m         return DataFrameRenderer(formatter).to_csv(\n\u001b[0m\u001b[1;32m   3721\u001b[0m             \u001b[0mpath_or_buf\u001b[0m\u001b[0;34m,\u001b[0m\u001b[0;34m\u001b[0m\u001b[0;34m\u001b[0m\u001b[0m\n\u001b[1;32m   3722\u001b[0m             \u001b[0mlineterminator\u001b[0m\u001b[0;34m=\u001b[0m\u001b[0mlineterminator\u001b[0m\u001b[0;34m,\u001b[0m\u001b[0;34m\u001b[0m\u001b[0;34m\u001b[0m\u001b[0m\n",
            "\u001b[0;32m/usr/local/lib/python3.10/dist-packages/pandas/util/_decorators.py\u001b[0m in \u001b[0;36mwrapper\u001b[0;34m(*args, **kwargs)\u001b[0m\n\u001b[1;32m    209\u001b[0m                 \u001b[0;32melse\u001b[0m\u001b[0;34m:\u001b[0m\u001b[0;34m\u001b[0m\u001b[0;34m\u001b[0m\u001b[0m\n\u001b[1;32m    210\u001b[0m                     \u001b[0mkwargs\u001b[0m\u001b[0;34m[\u001b[0m\u001b[0mnew_arg_name\u001b[0m\u001b[0;34m]\u001b[0m \u001b[0;34m=\u001b[0m \u001b[0mnew_arg_value\u001b[0m\u001b[0;34m\u001b[0m\u001b[0;34m\u001b[0m\u001b[0m\n\u001b[0;32m--> 211\u001b[0;31m             \u001b[0;32mreturn\u001b[0m \u001b[0mfunc\u001b[0m\u001b[0;34m(\u001b[0m\u001b[0;34m*\u001b[0m\u001b[0margs\u001b[0m\u001b[0;34m,\u001b[0m \u001b[0;34m**\u001b[0m\u001b[0mkwargs\u001b[0m\u001b[0;34m)\u001b[0m\u001b[0;34m\u001b[0m\u001b[0;34m\u001b[0m\u001b[0m\n\u001b[0m\u001b[1;32m    212\u001b[0m \u001b[0;34m\u001b[0m\u001b[0m\n\u001b[1;32m    213\u001b[0m         \u001b[0;32mreturn\u001b[0m \u001b[0mcast\u001b[0m\u001b[0;34m(\u001b[0m\u001b[0mF\u001b[0m\u001b[0;34m,\u001b[0m \u001b[0mwrapper\u001b[0m\u001b[0;34m)\u001b[0m\u001b[0;34m\u001b[0m\u001b[0;34m\u001b[0m\u001b[0m\n",
            "\u001b[0;32m/usr/local/lib/python3.10/dist-packages/pandas/io/formats/format.py\u001b[0m in \u001b[0;36mto_csv\u001b[0;34m(self, path_or_buf, encoding, sep, columns, index_label, mode, compression, quoting, quotechar, lineterminator, chunksize, date_format, doublequote, escapechar, errors, storage_options)\u001b[0m\n\u001b[1;32m   1187\u001b[0m             \u001b[0mformatter\u001b[0m\u001b[0;34m=\u001b[0m\u001b[0mself\u001b[0m\u001b[0;34m.\u001b[0m\u001b[0mfmt\u001b[0m\u001b[0;34m,\u001b[0m\u001b[0;34m\u001b[0m\u001b[0;34m\u001b[0m\u001b[0m\n\u001b[1;32m   1188\u001b[0m         )\n\u001b[0;32m-> 1189\u001b[0;31m         \u001b[0mcsv_formatter\u001b[0m\u001b[0;34m.\u001b[0m\u001b[0msave\u001b[0m\u001b[0;34m(\u001b[0m\u001b[0;34m)\u001b[0m\u001b[0;34m\u001b[0m\u001b[0;34m\u001b[0m\u001b[0m\n\u001b[0m\u001b[1;32m   1190\u001b[0m \u001b[0;34m\u001b[0m\u001b[0m\n\u001b[1;32m   1191\u001b[0m         \u001b[0;32mif\u001b[0m \u001b[0mcreated_buffer\u001b[0m\u001b[0;34m:\u001b[0m\u001b[0;34m\u001b[0m\u001b[0;34m\u001b[0m\u001b[0m\n",
            "\u001b[0;32m/usr/local/lib/python3.10/dist-packages/pandas/io/formats/csvs.py\u001b[0m in \u001b[0;36msave\u001b[0;34m(self)\u001b[0m\n\u001b[1;32m    239\u001b[0m         \"\"\"\n\u001b[1;32m    240\u001b[0m         \u001b[0;31m# apply compression and byte/text conversion\u001b[0m\u001b[0;34m\u001b[0m\u001b[0;34m\u001b[0m\u001b[0m\n\u001b[0;32m--> 241\u001b[0;31m         with get_handle(\n\u001b[0m\u001b[1;32m    242\u001b[0m             \u001b[0mself\u001b[0m\u001b[0;34m.\u001b[0m\u001b[0mfilepath_or_buffer\u001b[0m\u001b[0;34m,\u001b[0m\u001b[0;34m\u001b[0m\u001b[0;34m\u001b[0m\u001b[0m\n\u001b[1;32m    243\u001b[0m             \u001b[0mself\u001b[0m\u001b[0;34m.\u001b[0m\u001b[0mmode\u001b[0m\u001b[0;34m,\u001b[0m\u001b[0;34m\u001b[0m\u001b[0;34m\u001b[0m\u001b[0m\n",
            "\u001b[0;32m/usr/local/lib/python3.10/dist-packages/pandas/io/common.py\u001b[0m in \u001b[0;36mget_handle\u001b[0;34m(path_or_buf, mode, encoding, compression, memory_map, is_text, errors, storage_options)\u001b[0m\n\u001b[1;32m    732\u001b[0m     \u001b[0;31m# Only for write methods\u001b[0m\u001b[0;34m\u001b[0m\u001b[0;34m\u001b[0m\u001b[0m\n\u001b[1;32m    733\u001b[0m     \u001b[0;32mif\u001b[0m \u001b[0;34m\"r\"\u001b[0m \u001b[0;32mnot\u001b[0m \u001b[0;32min\u001b[0m \u001b[0mmode\u001b[0m \u001b[0;32mand\u001b[0m \u001b[0mis_path\u001b[0m\u001b[0;34m:\u001b[0m\u001b[0;34m\u001b[0m\u001b[0;34m\u001b[0m\u001b[0m\n\u001b[0;32m--> 734\u001b[0;31m         \u001b[0mcheck_parent_directory\u001b[0m\u001b[0;34m(\u001b[0m\u001b[0mstr\u001b[0m\u001b[0;34m(\u001b[0m\u001b[0mhandle\u001b[0m\u001b[0;34m)\u001b[0m\u001b[0;34m)\u001b[0m\u001b[0;34m\u001b[0m\u001b[0;34m\u001b[0m\u001b[0m\n\u001b[0m\u001b[1;32m    735\u001b[0m \u001b[0;34m\u001b[0m\u001b[0m\n\u001b[1;32m    736\u001b[0m     \u001b[0;32mif\u001b[0m \u001b[0mcompression\u001b[0m\u001b[0;34m:\u001b[0m\u001b[0;34m\u001b[0m\u001b[0;34m\u001b[0m\u001b[0m\n",
            "\u001b[0;32m/usr/local/lib/python3.10/dist-packages/pandas/io/common.py\u001b[0m in \u001b[0;36mcheck_parent_directory\u001b[0;34m(path)\u001b[0m\n\u001b[1;32m    595\u001b[0m     \u001b[0mparent\u001b[0m \u001b[0;34m=\u001b[0m \u001b[0mPath\u001b[0m\u001b[0;34m(\u001b[0m\u001b[0mpath\u001b[0m\u001b[0;34m)\u001b[0m\u001b[0;34m.\u001b[0m\u001b[0mparent\u001b[0m\u001b[0;34m\u001b[0m\u001b[0;34m\u001b[0m\u001b[0m\n\u001b[1;32m    596\u001b[0m     \u001b[0;32mif\u001b[0m \u001b[0;32mnot\u001b[0m \u001b[0mparent\u001b[0m\u001b[0;34m.\u001b[0m\u001b[0mis_dir\u001b[0m\u001b[0;34m(\u001b[0m\u001b[0;34m)\u001b[0m\u001b[0;34m:\u001b[0m\u001b[0;34m\u001b[0m\u001b[0;34m\u001b[0m\u001b[0m\n\u001b[0;32m--> 597\u001b[0;31m         \u001b[0;32mraise\u001b[0m \u001b[0mOSError\u001b[0m\u001b[0;34m(\u001b[0m\u001b[0;34mrf\"Cannot save file into a non-existent directory: '{parent}'\"\u001b[0m\u001b[0;34m)\u001b[0m\u001b[0;34m\u001b[0m\u001b[0;34m\u001b[0m\u001b[0m\n\u001b[0m\u001b[1;32m    598\u001b[0m \u001b[0;34m\u001b[0m\u001b[0m\n\u001b[1;32m    599\u001b[0m \u001b[0;34m\u001b[0m\u001b[0m\n",
            "\u001b[0;31mOSError\u001b[0m: Cannot save file into a non-existent directory: '/content/drive/MyDrive/Dados/Uploand_Google_Earth/SP_Bairros/Jardim Monte Cristo'"
          ]
        }
      ]
    }
  ]
}