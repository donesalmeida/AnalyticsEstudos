{
  "nbformat": 4,
  "nbformat_minor": 0,
  "metadata": {
    "colab": {
      "provenance": [],
      "mount_file_id": "1RP-bQoOkcqGHj6d-31RSgyXHLUjl4B5w",
      "authorship_tag": "ABX9TyOiLSuStDJnZ3Sc+jeDLdpp",
      "include_colab_link": true
    },
    "kernelspec": {
      "name": "python3",
      "display_name": "Python 3"
    },
    "language_info": {
      "name": "python"
    }
  },
  "cells": [
    {
      "cell_type": "markdown",
      "metadata": {
        "id": "view-in-github",
        "colab_type": "text"
      },
      "source": [
        "<a href=\"https://colab.research.google.com/github/donesalmeida/AnalyticsEstudos/blob/main/Untitled0.ipynb\" target=\"_parent\"><img src=\"https://colab.research.google.com/assets/colab-badge.svg\" alt=\"Open In Colab\"/></a>"
      ]
    },
    {
      "cell_type": "markdown",
      "source": [
        "Este script carrega o arquivo \"CEP Risco_.xlsx\", separa-o por UF e, para cada UF, salva um arquivo separado na pasta \"drive/MyDrive/\". Cada arquivo é nomeado com o nome da UF seguido pelo número de CEPs contidos naquela UF."
      ],
      "metadata": {
        "id": "-fJq-XmO_tcF"
      }
    },
    {
      "cell_type": "code",
      "source": [
        "import pandas as pd\n",
        "import os\n",
        "\n",
        "# Montar o Google Drive\n",
        "from google.colab import drive\n",
        "drive.mount('/content/drive')\n",
        "\n",
        "# Carregar o arquivo Excel\n",
        "file_path = '/content/drive/MyDrive/Dados/CEP Risco_.xlsx'\n",
        "df = pd.read_excel(file_path)\n",
        "\n",
        "# Criar diretório para armazenar as planilhas dos Estados\n",
        "output_dir = '/content/drive/MyDrive/Dados/Estados/'\n",
        "os.makedirs(output_dir, exist_ok=True)\n",
        "\n",
        "# Separar por UF\n",
        "ufs = df['UF'].unique()\n",
        "\n",
        "# Para cada UF, salvar o subconjunto correspondente em um arquivo separado\n",
        "for uf in ufs:\n",
        "    df_uf = df[df['UF'] == uf]  # Filtrar por UF\n",
        "    num_ceps = len(df_uf)  # Contar o número de CEPs para essa UF\n",
        "    file_name = f'{uf}_{num_ceps}_CEPs.xlsx'  # Nome do arquivo\n",
        "    file_path = os.path.join(output_dir, file_name)  # Caminho completo do arquivo\n",
        "    df_uf.to_excel(file_path, index=False)  # Salvar como Excel\n",
        "\n",
        "print(\"Arquivos separados por UF e salvos com sucesso!\")"
      ],
      "metadata": {
        "colab": {
          "base_uri": "https://localhost:8080/"
        },
        "id": "Xhs8kMKOAB-_",
        "outputId": "3f14c95a-a140-4a57-e014-690c1cb3d53f"
      },
      "execution_count": 11,
      "outputs": [
        {
          "output_type": "stream",
          "name": "stdout",
          "text": [
            "Drive already mounted at /content/drive; to attempt to forcibly remount, call drive.mount(\"/content/drive\", force_remount=True).\n",
            "Arquivos separados por UF e salvos com sucesso!\n"
          ]
        }
      ]
    },
    {
      "cell_type": "markdown",
      "source": [
        "Este script primeiro monta o Google Drive, em seguida, carrega o arquivo Excel \"SP_38345_CEPs.xlsx\" e cria um diretório para armazenar os arquivos CSV na pasta \"/content/drive/MyDrive/Dados/Uploand_Google_Earth\". Em seguida, ordena os bairros pela quantidade de CEPs em ordem decrescente e, para cada bairro, tenta salvar um arquivo CSV com o nome do bairro seguido pela quantidade de CEPs. Se houver algum erro ao processar um bairro, o script irá ignorá-lo e prosseguir para o próximo.\n",
        "\n",
        "1.\tPreciso de um Script para Google Colab aonde ele vai na /content/drive/MyDrive/Dados/Estados/SP_38345_CEPs.xlsx e separa por Bairro.\n",
        "2.\tA compilação deve considerar Bairro com maior quantidade de CEP.\n",
        "3.\tO nome dos arquivos é quantidade de cep por exemplo (235_CEPs_nome do bairro).\n",
        "4.\tSerá salvo /content/drive/MyDrive/Dados/Uploand_Google_Earth no formato CSV.\n",
        "5.\tSe possuir erro ignore e vá para o próximo.\n"
      ],
      "metadata": {
        "id": "yw1p1B5dCIcb"
      }
    },
    {
      "cell_type": "code",
      "source": [
        "import pandas as pd\n",
        "import os\n",
        "\n",
        "# Montar o Google Drive\n",
        "from google.colab import drive\n",
        "drive.mount('/content/drive')\n",
        "\n",
        "# Caminho do arquivo Excel\n",
        "file_path = '/content/drive/MyDrive/Dados/Estados/SP_38345_CEPs.xlsx'\n",
        "\n",
        "# Carregar o arquivo Excel\n",
        "try:\n",
        "    df = pd.read_excel(file_path)\n",
        "except Exception as e:\n",
        "    print(f\"Erro ao carregar o arquivo Excel: {str(e)}\")\n",
        "    exit()\n",
        "\n",
        "# Criar diretório para armazenar os arquivos CSV\n",
        "output_dir = '/content/drive/MyDrive/Dados/Uploand_Google_Earth/'\n",
        "os.makedirs(output_dir, exist_ok=True)\n",
        "\n",
        "# Ordenar os bairros pela quantidade de CEPs em ordem decrescente\n",
        "try:\n",
        "    bairros_ordenados = df['Bairro'].value_counts().index\n",
        "except Exception as e:\n",
        "    print(f\"Erro ao ordenar os bairros: {str(e)}\")\n",
        "    bairros_ordenados = []\n",
        "\n",
        "# Salvar os bairros em arquivos CSV\n",
        "for bairro in bairros_ordenados:\n",
        "    try:\n",
        "        df_bairro = df[df['Bairro'] == bairro]  # Filtrar por bairro\n",
        "        num_ceps = len(df_bairro)  # Contar o número de CEPs para esse bairro\n",
        "\n",
        "        # Nome do arquivo\n",
        "        file_name = f'{num_ceps}_CEPs_{bairro}.csv'\n",
        "\n",
        "        # Caminho completo do arquivo\n",
        "        file_path = os.path.join(output_dir, file_name)\n",
        "\n",
        "        # Salvar como CSV\n",
        "        df_bairro.to_csv(file_path, index=False)\n",
        "\n",
        "        print(f\"Arquivo {file_name} salvo com sucesso!\")\n",
        "    except Exception as e:\n",
        "        print(f\"Erro ao processar o bairro {bairro}: {str(e)}\")\n",
        "\n",
        "print(\"Processo concluído.\")"
      ],
      "metadata": {
        "id": "lhvAFyJBKVIm"
      },
      "execution_count": null,
      "outputs": []
    },
    {
      "cell_type": "markdown",
      "source": [
        "Este script carrega o arquivo \"SP_38345_CEPs.xlsx\", extrai os dados do bairro \"Centro\", conta o número de CEPs para esse bairro, e salva os dados em um arquivo CSV com o nome contendo a quantidade de CEPs e o nome do bairro escolhido. Se ocorrer algum erro durante o processo, uma mensagem de erro será exibida.\n",
        "1.\tScript para Google Colab aonde ele vai na /content/drive/MyDrive/Dados/Estados/SP_38345_CEPs.xlsx traz “Centro”.\n",
        "\n",
        "2.\tO nome do arquivo é quantidade de cep por exemplo (235_CEPs_nome do bairro) escolhido.\n",
        "3.\tSerá salvo /content/drive/MyDrive/Dados/Uploand_Google_Earth no formato CSV.\n",
        "4.\tSe possuir erro, avise!\n"
      ],
      "metadata": {
        "id": "CBC1iDCAiGOQ"
      }
    },
    {
      "cell_type": "code",
      "source": [
        "import pandas as pd\n",
        "\n",
        "# Montar o Google Drive\n",
        "from google.colab import drive\n",
        "drive.mount('/content/drive')\n",
        "\n",
        "# Caminho do arquivo Excel\n",
        "file_path = '/content/drive/MyDrive/Dados/Estados/SP_38345_CEPs.xlsx'\n",
        "\n",
        "# Tentar carregar o arquivo Excel e extrair o bairro \"Centro\"\n",
        "try:\n",
        "    df = pd.read_excel(file_path)\n",
        "    df_centro = df[df['Bairro'] == 'Centro']\n",
        "except Exception as e:\n",
        "    print(f\"Erro ao carregar o arquivo Excel ou ao extrair o bairro 'Centro': {str(e)}\")\n",
        "    exit()\n",
        "\n",
        "# Verificar se há dados para o bairro \"Centro\"\n",
        "if df_centro.empty:\n",
        "    print(\"Não foram encontrados dados para o bairro 'Centro'.\")\n",
        "    exit()\n",
        "\n",
        "# Contar o número de CEPs para o bairro \"Centro\"\n",
        "num_ceps = len(df_centro)\n",
        "\n",
        "# Nome do arquivo\n",
        "file_name = f'{num_ceps}_CEPs_Centro.csv'\n",
        "\n",
        "# Caminho completo do arquivo\n",
        "output_dir = '/content/drive/MyDrive/Dados/Uploand_Google_Earth/'\n",
        "file_path = output_dir + file_name\n",
        "\n",
        "# Tentar salvar o arquivo CSV\n",
        "try:\n",
        "    df_centro.to_csv(file_path, index=False)\n",
        "    print(f\"Arquivo '{file_name}' salvo com sucesso!\")\n",
        "except Exception as e:\n",
        "    print(f\"Erro ao salvar o arquivo CSV: {str(e)}\")"
      ],
      "metadata": {
        "colab": {
          "base_uri": "https://localhost:8080/"
        },
        "id": "8QVXMmLYiIuI",
        "outputId": "7b021608-6738-4b84-b67e-21ff50a39d7b"
      },
      "execution_count": 18,
      "outputs": [
        {
          "output_type": "stream",
          "name": "stdout",
          "text": [
            "Drive already mounted at /content/drive; to attempt to forcibly remount, call drive.mount(\"/content/drive\", force_remount=True).\n",
            "Arquivo '29_CEPs_Centro.csv' salvo com sucesso!\n"
          ]
        }
      ]
    },
    {
      "cell_type": "markdown",
      "source": [
        "Limpara pasta Diretório"
      ],
      "metadata": {
        "id": "4KudC3nXjGVi"
      }
    },
    {
      "cell_type": "code",
      "source": [
        "import os\n",
        "\n",
        "# Pasta que deseja limpar\n",
        "folder_path = '/content/drive/MyDrive/Dados/Uploand_Google_Earth'\n",
        "\n",
        "# Verificar se o diretório existe\n",
        "if os.path.exists(folder_path):\n",
        "    # Listar todos os arquivos e subpastas dentro do diretório\n",
        "    files = os.listdir(folder_path)\n",
        "\n",
        "    # Remover cada arquivo e subpasta\n",
        "    for file in files:\n",
        "        file_path = os.path.join(folder_path, file)\n",
        "\n",
        "        try:\n",
        "            if os.path.isfile(file_path):\n",
        "                # Remover o arquivo\n",
        "                os.remove(file_path)\n",
        "                print(f\"Arquivo {file} removido com sucesso!\")\n",
        "            elif os.path.isdir(file_path):\n",
        "                # Remover a subpasta e todo o seu conteúdo\n",
        "                os.rmdir(file_path)\n",
        "                print(f\"Subpasta {file} removida com sucesso!\")\n",
        "        except Exception as e:\n",
        "            print(f\"Erro ao remover {file}: {str(e)}\")\n",
        "else:\n",
        "    print(\"O diretório especificado não existe.\")"
      ],
      "metadata": {
        "id": "nL6uUWOyjKNs"
      },
      "execution_count": null,
      "outputs": []
    }
  ]
}