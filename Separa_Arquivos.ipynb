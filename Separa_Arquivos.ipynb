{
  "nbformat": 4,
  "nbformat_minor": 0,
  "metadata": {
    "colab": {
      "provenance": [],
      "mount_file_id": "1wTPEr8fe4PpVl6MM0QDl3aZ9QC0lz3BA",
      "authorship_tag": "ABX9TyM3f75OJqtaKCVjOHgCY/FF",
      "include_colab_link": true
    },
    "kernelspec": {
      "name": "python3",
      "display_name": "Python 3"
    },
    "language_info": {
      "name": "python"
    }
  },
  "cells": [
    {
      "cell_type": "markdown",
      "metadata": {
        "id": "view-in-github",
        "colab_type": "text"
      },
      "source": [
        "<a href=\"https://colab.research.google.com/github/donesalmeida/AnalyticsEstudos/blob/main/Separa_Arquivos.ipynb\" target=\"_parent\"><img src=\"https://colab.research.google.com/assets/colab-badge.svg\" alt=\"Open In Colab\"/></a>"
      ]
    },
    {
      "cell_type": "code",
      "execution_count": 4,
      "metadata": {
        "colab": {
          "base_uri": "https://localhost:8080/"
        },
        "id": "L7nYOmsrm6MY",
        "outputId": "1fd61da0-7f6f-4edc-d06e-05a7e2fc056d"
      },
      "outputs": [
        {
          "output_type": "stream",
          "name": "stdout",
          "text": [
            "Arquivos salvos com sucesso!\n"
          ]
        }
      ],
      "source": [
        "import pandas as pd\n",
        "\n",
        "# Carrega o arquivo\n",
        "caminho_arquivo = \"/content/drive/MyDrive/Dados/Projeto FM Sinistro/29k_Seller_Consolidado_FM_15042024.xlsx\"\n",
        "dados = pd.read_excel(caminho_arquivo)\n",
        "\n",
        "# Divide os dados em grupos de 1800 linhas\n",
        "grupos = [dados.iloc[i:i+1800] for i in range(0, len(dados), 1800)]\n",
        "\n",
        "# Salva cada grupo em um arquivo CSV com nome sequencial\n",
        "for i, grupo in enumerate(grupos):\n",
        "    numero_arquivo = str(i + 1).zfill(2)  # Formata o número com dois dígitos, ex: 01, 02, ...\n",
        "    caminho_saida = f\"/content/drive/MyDrive/Dados/Projeto FM Sinistro/Arq_{numero_arquivo}.csv\"\n",
        "    grupo.to_csv(caminho_saida, index=False)\n",
        "\n",
        "print(\"Arquivos salvos com sucesso!\")\n"
      ]
    }
  ]
}