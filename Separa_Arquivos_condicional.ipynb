{
  "nbformat": 4,
  "nbformat_minor": 0,
  "metadata": {
    "colab": {
      "provenance": [],
      "mount_file_id": "1wTPEr8fe4PpVl6MM0QDl3aZ9QC0lz3BA",
      "authorship_tag": "ABX9TyOVEeQj5lkAcdqBWhEow0ik",
      "include_colab_link": true
    },
    "kernelspec": {
      "name": "python3",
      "display_name": "Python 3"
    },
    "language_info": {
      "name": "python"
    }
  },
  "cells": [
    {
      "cell_type": "markdown",
      "metadata": {
        "id": "view-in-github",
        "colab_type": "text"
      },
      "source": [
        "<a href=\"https://colab.research.google.com/github/donesalmeida/AnalyticsEstudos/blob/main/Separa_Arquivos_condicional.ipynb\" target=\"_parent\"><img src=\"https://colab.research.google.com/assets/colab-badge.svg\" alt=\"Open In Colab\"/></a>"
      ]
    },
    {
      "cell_type": "code",
      "execution_count": 26,
      "metadata": {
        "colab": {
          "base_uri": "https://localhost:8080/"
        },
        "id": "L7nYOmsrm6MY",
        "outputId": "b06531f0-24da-498b-96d4-a5c1ce15b11b"
      },
      "outputs": [
        {
          "output_type": "stream",
          "name": "stdout",
          "text": [
            "Arquivo 'Arq_01.csv' salvo com sucesso.\n",
            "Arquivo 'Arq_02.csv' salvo com sucesso.\n",
            "Arquivo 'Arq_03.csv' salvo com sucesso.\n",
            "Arquivo 'Arq_04.csv' salvo com sucesso.\n",
            "Arquivo 'Arq_05.csv' salvo com sucesso.\n",
            "Arquivo 'Arq_06.csv' salvo com sucesso.\n",
            "Arquivo 'Arq_07.csv' salvo com sucesso.\n",
            "Arquivo 'Arq_08.csv' salvo com sucesso.\n",
            "Arquivo 'Arq_09.csv' salvo com sucesso.\n",
            "Arquivo 'Arq_10.csv' salvo com sucesso.\n",
            "Arquivo 'Arq_11.csv' salvo com sucesso.\n",
            "Arquivo 'Arq_12.csv' salvo com sucesso.\n",
            "Arquivo 'Arq_13.csv' salvo com sucesso.\n",
            "Arquivo 'Arq_14.csv' salvo com sucesso.\n"
          ]
        }
      ],
      "source": [
        "import pandas as pd\n",
        "import numpy as np\n",
        "\n",
        "# Caminho do arquivo Excel\n",
        "caminho_excel = \"/content/drive/MyDrive/2024/FM_Seller/29k_Seller Consolidado FM_15042024.xlsx\"\n",
        "\n",
        "# Ler o arquivo Excel\n",
        "try:\n",
        "    df = pd.read_excel(caminho_excel)\n",
        "except FileNotFoundError:\n",
        "    print(\"Arquivo Excel não encontrado. Verifique o caminho e tente novamente.\")\n",
        "    exit()\n",
        "\n",
        "# Número aproximado de linhas por parte\n",
        "linhas_por_parte = 2069\n",
        "\n",
        "# Calcular o número de partes necessário\n",
        "num_partes = len(df) // linhas_por_parte + 1\n",
        "\n",
        "# Dividir o DataFrame em partes com aproximadamente 2069 linhas em cada parte\n",
        "for idx, df_parte in enumerate(np.array_split(df, num_partes), start=1):\n",
        "    # Salvar a parte como arquivo CSV no mesmo diretório\n",
        "    nome_arquivo = f\"Arq_{str(idx).zfill(2)}.csv\"\n",
        "    caminho_arquivo_csv = \"/\".join(caminho_excel.split(\"/\")[:-1]) + \"/\" + nome_arquivo\n",
        "    df_parte.to_csv(caminho_arquivo_csv, index=False)\n",
        "\n",
        "    print(f\"Arquivo '{nome_arquivo}' salvo com sucesso.\")\n"
      ]
    }
  ]
}