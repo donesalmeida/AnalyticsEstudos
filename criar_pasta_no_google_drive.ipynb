{
  "nbformat": 4,
  "nbformat_minor": 0,
  "metadata": {
    "colab": {
      "provenance": [],
      "authorship_tag": "ABX9TyOilWluG1wiEYOubDEoiBW4",
      "include_colab_link": true
    },
    "kernelspec": {
      "name": "python3",
      "display_name": "Python 3"
    },
    "language_info": {
      "name": "python"
    }
  },
  "cells": [
    {
      "cell_type": "markdown",
      "metadata": {
        "id": "view-in-github",
        "colab_type": "text"
      },
      "source": [
        "<a href=\"https://colab.research.google.com/github/donesalmeida/AnalyticsEstudos/blob/main/criar_pasta_no_google_drive.ipynb\" target=\"_parent\"><img src=\"https://colab.research.google.com/assets/colab-badge.svg\" alt=\"Open In Colab\"/></a>"
      ]
    },
    {
      "cell_type": "code",
      "execution_count": null,
      "metadata": {
        "colab": {
          "base_uri": "https://localhost:8080/"
        },
        "id": "OChNHB9FpeoW",
        "outputId": "060ca169-2aad-4dbf-f1b7-cb013dc765c8"
      },
      "outputs": [
        {
          "output_type": "stream",
          "name": "stdout",
          "text": [
            "Mounted at /content/drive\n"
          ]
        }
      ],
      "source": [
        "from google.colab import drive\n",
        "drive.mount('/content/drive')"
      ]
    },
    {
      "cell_type": "markdown",
      "source": [
        "Pasta lista de presença"
      ],
      "metadata": {
        "id": "kr5aqZAvp0Ey"
      }
    },
    {
      "cell_type": "code",
      "source": [
        "from google.colab import drive\n",
        "import os\n",
        "\n",
        "# Montar o Google Drive\n",
        "drive.mount('/content/drive')\n",
        "\n",
        "# Caminho para o diretório onde a pasta será criada\n",
        "caminho_pasta = '/content/drive/MyDrive/2024'\n",
        "\n",
        "# Nome da pasta a ser criada\n",
        "nome_pasta = 'Lista de Presença'\n",
        "\n",
        "# Caminho completo para a nova pasta\n",
        "caminho_completo = os.path.join(caminho_pasta, nome_pasta)\n",
        "\n",
        "# Verifica se o diretório já existe\n",
        "if not os.path.exists(caminho_completo):\n",
        "    # Cria a pasta\n",
        "    os.makedirs(caminho_completo)\n",
        "    print(f'A pasta \"{nome_pasta}\" foi criada com sucesso em \"{caminho_pasta}\".')\n",
        "else:\n",
        "    print(f'A pasta \"{nome_pasta}\" já existe em \"{caminho_pasta}\".')\n"
      ],
      "metadata": {
        "colab": {
          "base_uri": "https://localhost:8080/"
        },
        "id": "vwX7mTUgp5Sq",
        "outputId": "c580c9e4-a3b7-41b9-cd8f-befc96792d08"
      },
      "execution_count": null,
      "outputs": [
        {
          "output_type": "stream",
          "name": "stdout",
          "text": [
            "Drive already mounted at /content/drive; to attempt to forcibly remount, call drive.mount(\"/content/drive\", force_remount=True).\n",
            "A pasta \"Lista de Presença\" foi criada com sucesso em \"/content/drive/MyDrive/2024\".\n"
          ]
        }
      ]
    },
    {
      "cell_type": "markdown",
      "source": [],
      "metadata": {
        "id": "dKhXCx3Kr90m"
      }
    }
  ]
}